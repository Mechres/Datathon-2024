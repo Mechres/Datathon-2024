{
 "cells": [
  {
   "metadata": {
    "ExecuteTime": {
     "end_time": "2024-09-15T14:54:06.551264Z",
     "start_time": "2024-09-15T14:54:06.067857Z"
    }
   },
   "cell_type": "code",
   "source": [
    "import pandas as pd\n",
    "\n",
    "# Verileri yükleyelim\n",
    "train = pd.read_csv('train.csv')\n",
    "test = pd.read_csv('test_x.csv')\n",
    "\n",
    "# 1. Basvuru Yili\n",
    "print(\"Basvuru Yili eksik veri sayısı:\", train['Basvuru Yili'].isnull().sum())\n",
    "print(\"Basvuru Yili eşsiz değerler:\", train['Basvuru Yili'].unique())\n",
    "\n",
    "# 2. Degerlendirme Puani (hedef değişken - sadece eğitim verisinde var)\n",
    "print(\"Degerlendirme Puani eksik veri sayısı:\", train['Degerlendirme Puani'].isnull().sum())\n",
    "\n",
    "# 3. Cinsiyet\n",
    "print(\"Cinsiyet eksik veri sayısı:\", train['Cinsiyet'].isnull().sum())\n",
    "print(\"Cinsiyet eşsiz değerler:\", train['Cinsiyet'].unique())\n",
    "\n",
    "# Test verileri için 'Cinsiyet' sütununu da kontrol edelim\n",
    "print(\"Test verisindeki Cinsiyet eksik veri sayısı:\", test['Cinsiyet'].isnull().sum())\n",
    "print(\"Test verisindeki Cinsiyet eşsiz değerler:\", test['Cinsiyet'].unique())\n"
   ],
   "id": "a3564e06df4de127",
   "outputs": [
    {
     "name": "stdout",
     "output_type": "stream",
     "text": [
      "Basvuru Yili eksik veri sayısı: 0\n",
      "Basvuru Yili eşsiz değerler: [2014 2015 2016 2017 2018 2019 2020 2021 2022]\n",
      "Degerlendirme Puani eksik veri sayısı: 1\n",
      "Cinsiyet eksik veri sayısı: 169\n",
      "Cinsiyet eşsiz değerler: ['Erkek' 'Kadın' 'ERKEK' 'Belirtmek istemiyorum' nan]\n",
      "Test verisindeki Cinsiyet eksik veri sayısı: 0\n",
      "Test verisindeki Cinsiyet eşsiz değerler: ['Kadın' 'Erkek' 'Belirtmek istemiyorum']\n"
     ]
    },
    {
     "name": "stderr",
     "output_type": "stream",
     "text": [
      "C:\\Users\\myagi\\AppData\\Local\\Temp\\ipykernel_224140\\2928659255.py:4: DtypeWarning: Columns (13,15,19,32,37,41,42) have mixed types. Specify dtype option on import or set low_memory=False.\n",
      "  train = pd.read_csv('train.csv')\n"
     ]
    }
   ],
   "execution_count": 11
  },
  {
   "metadata": {
    "ExecuteTime": {
     "end_time": "2024-09-15T14:54:53.243439Z",
     "start_time": "2024-09-15T14:54:53.197966Z"
    }
   },
   "cell_type": "code",
   "source": [
    "# 2. Degerlendirme Puani: Eksik değeri kontrol edip satırı silelim\n",
    "train = train.dropna(subset=['Degerlendirme Puani'])\n",
    "print(\"Degerlendirme Puani eksik veri sayısı (düzeltme sonrası):\", train['Degerlendirme Puani'].isnull().sum())\n",
    "\n",
    "# 3. Cinsiyet: Büyük/küçük harf farklılıklarını düzeltelim ve eksik verileri dolduralım\n",
    "# Büyük/küçük harfleri düzeltme\n",
    "train['Cinsiyet'] = train['Cinsiyet'].str.lower()\n",
    "test['Cinsiyet'] = test['Cinsiyet'].str.lower()\n",
    "\n",
    "# Eksik verileri dolduralım\n",
    "# En çok görülen değeri (mode) bulalım\n",
    "mode_cinsiyet = train['Cinsiyet'].mode()[0]\n",
    "print(\"Cinsiyet sütununun en sık tekrarlanan değeri (mode):\", mode_cinsiyet)\n",
    "\n",
    "# Eksik olan değerleri dolduralım\n",
    "train['Cinsiyet'] = train['Cinsiyet'].fillna(mode_cinsiyet)\n",
    "\n",
    "# Düzeltilmiş verileri tekrar kontrol edelim\n",
    "print(\"Cinsiyet eksik veri sayısı (düzeltme sonrası):\", train['Cinsiyet'].isnull().sum())\n",
    "print(\"Cinsiyet eşsiz değerler (düzeltme sonrası):\", train['Cinsiyet'].unique())\n"
   ],
   "id": "a5c05c48ae5b9cfd",
   "outputs": [
    {
     "name": "stdout",
     "output_type": "stream",
     "text": [
      "Degerlendirme Puani eksik veri sayısı (düzeltme sonrası): 0\n",
      "Cinsiyet sütununun en sık tekrarlanan değeri (mode): erkek\n",
      "Cinsiyet eksik veri sayısı (düzeltme sonrası): 0\n",
      "Cinsiyet eşsiz değerler (düzeltme sonrası): ['erkek' 'kadın' 'belirtmek istemiyorum']\n"
     ]
    }
   ],
   "execution_count": 12
  },
  {
   "metadata": {
    "ExecuteTime": {
     "end_time": "2024-09-15T14:55:24.742335Z",
     "start_time": "2024-09-15T14:55:24.726446Z"
    }
   },
   "cell_type": "code",
   "source": [
    "# 4. Dogum Tarihi: Eksik veri kontrolü ve yaş hesaplama\n",
    "print(\"Dogum Tarihi eksik veri sayısı:\", train['Dogum Tarihi'].isnull().sum())\n",
    "print(\"Dogum Tarihi örnek veriler:\", train['Dogum Tarihi'].head())\n",
    "\n",
    "# 5. Dogum Yeri: Eksik veri kontrolü\n",
    "print(\"Dogum Yeri eksik veri sayısı:\", train['Dogum Yeri'].isnull().sum())\n",
    "print(\"Dogum Yeri eşsiz değerler:\", train['Dogum Yeri'].unique())\n",
    "\n",
    "# 6. Ikametgah Sehri: Eksik veri kontrolü\n",
    "print(\"Ikametgah Sehri eksik veri sayısı:\", train['Ikametgah Sehri'].isnull().sum())\n",
    "print(\"Ikametgah Sehri eşsiz değerler:\", train['Ikametgah Sehri'].unique())\n"
   ],
   "id": "7ac4b799ebfc408b",
   "outputs": [
    {
     "name": "stdout",
     "output_type": "stream",
     "text": [
      "Dogum Tarihi eksik veri sayısı: 177\n",
      "Dogum Tarihi örnek veriler: 0        4/6/1994\n",
      "1       6/11/1993\n",
      "2       1/15/1986\n",
      "3        6/4/1991\n",
      "4    2 Kasim 1992\n",
      "Name: Dogum Tarihi, dtype: object\n",
      "Dogum Yeri eksik veri sayısı: 791\n",
      "Dogum Yeri eşsiz değerler: ['Altindag, Ankara' 'Üsküdar' 'Samsun' ... 'bergama/ izmir' 'Tacikistan'\n",
      " 'Ankara keçiören']\n",
      "Ikametgah Sehri eksik veri sayısı: 2037\n",
      "Ikametgah Sehri eşsiz değerler: ['Ankara' 'İstanbul' 'Esenler/İstanbul' 'Kayseri' 'Bahçelievler/Ankara'\n",
      " 'İSTANBUL' 'İzmir' 'Kahramanmaraş' 'Üsküdar/İstanbul' 'İZMİR' 'Trabzon'\n",
      " 'Kars' 'Kırşehir' 'Gebze/Kocaeli' 'Buca/İzmir' 'Sarıyer/İstanbul' 'Ordu'\n",
      " 'Osmaniye' nan 'Maltepe/İstanbul' 'Antalya' 'Florya/İstanbul'\n",
      " 'Gaziosmanpaşa/İstanbul' 'Istanbul' 'Etimesgut/Ankara' 'Konya' 'ANKARA'\n",
      " 'Bartın' 'Girne' 'Bingöl' 'Mersin' 'KAYSERİ' 'BURSA' 'Manisa' 'Samsun'\n",
      " 'GÖLCÜK' 'Diyarbakır' 'istanbul' 'Kırklareli' 'KOCAELİ' 'AYDIN' 'Muğla'\n",
      " 'Zonguldak' 'Erzurum' 'GAZİMAĞUSA' 'Bursa' 'DENİZLİ' 'Batman' 'Gaziantep'\n",
      " 'Aydın' 'Kocaeli' 'Gazimağusa' 'Adana' 'Balıkesir' 'Şanlıurfa' 'Sakarya'\n",
      " 'ANTALYA' 'Izmir' 'ADANA' 'NEVŞEHİR' 'KONYA' 'ISTANBUL' 'Niğde' 'Arhavi'\n",
      " 'ankara' 'AKSARAY' 'Güzelyurt' 'Kütahya' 'AFYONKARAHİSAR' 'Uşak'\n",
      " 'SAKARYA' 'Bolu' 'mersin' 'izmir' 'Aksaray' 'Kastamonu' 'K.maraş'\n",
      " 'Tekirdağ' 'Düzce' '------' 'Sinop' 'Elazığ' 'Kırıkkale' 'Isparta' 'Ağrı'\n",
      " 'Giresun' 'Hatay' 'Denizli' 'Çanakkale' 'Siirt' 'Sivas' 'Malatya'\n",
      " 'Şırnak' 'Hakkari' 'Mardin' 'Van' 'stanbul' 'Lefkoşa' 'Lefke' 'Agri'\n",
      " 'Adiyaman' 'Erzincan' 'Diger' 'Bayburt' 'Sanliurfa' 'Eskisehir'\n",
      " 'Balikesir' 'Tekirdag' 'Yozgat' 'Çorum' 'Karabük' 'Mugla' 'Aydin' 'Nigde'\n",
      " 'Bitlis' 'Amasya' 'Tunceli' 'Sirnak' 'Edirne' 'Çankiri' 'Kahramanmaras'\n",
      " 'Ardahan' 'Usak' 'Tokat' 'Yalova' 'Elazig' 'Karaman' 'Burdur'\n",
      " 'Diyarbakir' 'Gümüshane' 'Kirklareli' 'Mus' 'Hakkâri' 'Artvin'\n",
      " 'Kirikkale' 'Igdir' 'Eskişehir' 'Rize' 'Iğdır' 'Muş' 'Adıyaman' 'Bilecik'\n",
      " 'Afyonkarahisar' 'Diğer' 'Nevşehir' 'Gümüşhane' 'Çankırı' 'Ünye/Ordu'\n",
      " 'Afyon' 'Kağıthane/İstanbul' 'Polatlı/Ankara' 'Esenyurt/İstanbul'\n",
      " 'Bahçeşehir/İstanbul' 'Bahçelievler/İstanbul' 'Yahyalı/Kayseri'\n",
      " 'Zeytinburnu/İstanbul' 'Hamburg' 'ZONGULDAK' 'Kilis' 'Feriköy/İstanbul'\n",
      " 'Çankaya/Ankara' 'Nevsehir' 'MANİSA' 'DİYARBAKIR' 'kocaeli' 'MERSİN'\n",
      " 'Alaplı/Zonguldak' 'YOZGAT' 'Kırgızistan-Bişkek' 'SAMSUN'\n",
      " 'İstanbul\\r\\nNiğde' 'Batman/Merkez' 'İSKENDERUN' 'Ataşehir/İstanbul'\n",
      " 'Gemlik/Bursa' 'UŞAK' 'Aliağa/İzmir' 'Palandöken/Erzurum' 'Çiğli/İzmir'\n",
      " 'Güngören/İstanbul' 'Silivri/İstanbul' 'Konak/İzmir' 'Gönen/Balıkesir'\n",
      " 'Beşiktaş/İstanbul' 'Bağlar/Diyarbakır' 'Fatih/İstanbul' 'KAHRAMANMARAŞ'\n",
      " 'Kartal/İstanbul' 'Seyhan/Adana' 'Adapazarı/Sakarya' 'Germencik/Aydın'\n",
      " 'TRABZON' 'BURDUR' 'İzmit' 'Kocamustafapaşa/Fatih/İstanbul' 'Nürnberg'\n",
      " 'Yunusemre/Manisa' 'konya' 'Bigadiç/Balıkesir' 'Keçiören/Ankara'\n",
      " 'Bornova/İzmir' 'ERZURUM' 'Balçova/İzmir' 'Kadıköy/İstanbul' 'ESKİŞEHİR'\n",
      " 'Eryaman/Ankara' 'Şile/İstanbul' 'KKTC' 'KIRIKKALE' 'Hacettepe/Ankara'\n",
      " 'Avcılar/İstanbul' 'VAN' 'Beylikdüzü/İstanbul' 'Antakya' 'ODTÜ/Ankara'\n",
      " 'Dilovası/Kocaeli' 'Çaycuma/Zonguldak' 'Kaman/Kırşehir' 'Bilkent/Ankara'\n",
      " 'Derince/Kocaeli' 'Bartin' 'Darıca/Kocaeli' 'Sincan/Ankara'\n",
      " 'Yenibosna/İstanbul' 'Çirişhanee' 'Mamak/Ankara' 'Kepez/Antalya'\n",
      " 'Bağcılar/İstanbul' 'Akhisar/Manisa' 'Fethiye/Muğla'\n",
      " 'Odunpazarı/Eskişehir' 'Bakırköy/İstanbul' 'Ortaca/Muğla'\n",
      " 'Gündoğmuş/Antalya' 'Söke/Aydın' 'ODTÜ/Çankaya/Ankara' 'Nilüfer/Bursa'\n",
      " 'Merkez/Kastamonu' 'Mersin-Adana' 'Melikgazi/Kayseri' 'Orhangazi/Bursa'\n",
      " 'AMASYA' 'Gotham' 'GothamCity' 'İZMİT' 'Bodrum' 'Göle' 'GAZİANTEP'\n",
      " 'Gebze' 'iskenderun' 'TEKİRDAĞ' 'ISPARTA' 'BALIKESİR' 'TOKAT' 'Manavgat'\n",
      " 'ELAZIĞ' 'izmit' 'KAHTA' 'Kuşadası' 'erzurum' 'KIRKLARELİ' 'ORDU'\n",
      " 'KOCAELI' 'ÇORUM' 'DÜZCE' 'SİVAS' 'Adapazarı' 'ADAPAZARI' 'i̇zmir'\n",
      " 'Yenişehir' 'İsparta' 'TUNCELİ' 'KAYSERI' 'MUĞLA' 'MALATYA' 'Bozüyük'\n",
      " 'KARAMAN' 'Selçuk,İzmir' 'IĞDIR' 'GİRESUN' 'ŞANLIURFA' 'kayseri'\n",
      " 'ADIYAMAN' 'MARDİN' 'YALOVA' 'Oslo' 'ÇANAKKALE' 'İskenderun' 'ERZİNCAN'\n",
      " 'Alanya' 'GÜMÜŞHANE' 'Adapazari' 'Fatih' 'uşak' 'OSMANİYE'\n",
      " 'OpenAIrequestfailedtimeout' 'DENIZLI' 'KARABÜK' 'Çerkezköy' 'bilecik'\n",
      " 'KIRŞEHİR' 'trabzon' 'BAKÜ' 'Bağcılar' 'Fethiye' 'BUCAK' 'kütahya'\n",
      " 'İstanbul,Kocaeli' 'Bandırma' 'BOLU' 'ARTVİN' 'yalova' 'IZMIR' 'bursa'\n",
      " 'şanlıurfa' 'Üsküdar' 'Akçaabat' 'gaziantep' 'ANTAKYA' 'Kirsehir']\n"
     ]
    }
   ],
   "execution_count": 13
  },
  {
   "metadata": {
    "ExecuteTime": {
     "end_time": "2024-09-15T14:56:42.770096Z",
     "start_time": "2024-09-15T14:56:26.020836Z"
    }
   },
   "cell_type": "code",
   "source": [
    "import pandas as pd\n",
    "\n",
    "# 4. Dogum Tarihi: Tarih formatlarını düzeltme ve yaş hesaplama\n",
    "def fix_date_format(date_str):\n",
    "    try:\n",
    "        return pd.to_datetime(date_str, errors='coerce', dayfirst=True)\n",
    "    except:\n",
    "        return pd.NaT\n",
    "\n",
    "# Tarih formatını düzelt\n",
    "train['Dogum Tarihi'] = train['Dogum Tarihi'].apply(fix_date_format)\n",
    "test['Dogum Tarihi'] = test['Dogum Tarihi'].apply(fix_date_format)\n",
    "\n",
    "# Yaş hesaplama (Basvuru Yili ve Dogum Tarihi'ni kullanarak)\n",
    "train['Yas'] = train['Basvuru Yili'] - train['Dogum Tarihi'].dt.year\n",
    "test['Yas'] = test['Basvuru Yili'] - test['Dogum Tarihi'].dt.year\n",
    "\n",
    "# Eksik olan yaşları ortalama yaşla dolduralım\n",
    "average_age_train = train['Yas'].mean()\n",
    "train['Yas'] = train['Yas'].fillna(average_age_train)\n",
    "\n",
    "average_age_test = test['Yas'].mean()\n",
    "test['Yas'] = test['Yas'].fillna(average_age_test)\n",
    "\n",
    "# 5. Dogum Yeri: Eksik verileri dolduralım\n",
    "mode_dogum_yeri = train['Dogum Yeri'].mode()[0]\n",
    "train['Dogum Yeri'] = train['Dogum Yeri'].fillna(mode_dogum_yeri)\n",
    "test['Dogum Yeri'] = test['Dogum Yeri'].fillna(mode_dogum_yeri)\n",
    "\n",
    "# 6. Ikametgah Sehri: Büyük/küçük harf düzeltme ve eksik verileri doldurma\n",
    "train['Ikametgah Sehri'] = train['Ikametgah Sehri'].str.lower()\n",
    "test['Ikametgah Sehri'] = test['Ikametgah Sehri'].str.lower()\n",
    "\n",
    "mode_ikametgah_sehri = train['Ikametgah Sehri'].mode()[0]\n",
    "train['Ikametgah Sehri'] = train['Ikametgah Sehri'].fillna(mode_ikametgah_sehri)\n",
    "test['Ikametgah Sehri'] = test['Ikametgah Sehri'].fillna(mode_ikametgah_sehri)\n",
    "\n",
    "# Düzeltmelerden sonra verileri kontrol edelim\n",
    "print(\"Dogum Tarihi örnek veriler (düzeltme sonrası):\", train['Dogum Tarihi'].head())\n",
    "print(\"Yas sütunu örnek veriler:\", train['Yas'].head())\n",
    "print(\"Dogum Yeri eksik veri sayısı (düzeltme sonrası):\", train['Dogum Yeri'].isnull().sum())\n",
    "print(\"Ikametgah Sehri eksik veri sayısı (düzeltme sonrası):\", train['Ikametgah Sehri'].isnull().sum())\n"
   ],
   "id": "46f00860b633acf2",
   "outputs": [
    {
     "name": "stderr",
     "output_type": "stream",
     "text": [
      "C:\\Users\\myagi\\AppData\\Local\\Temp\\ipykernel_224140\\2168625490.py:6: UserWarning: Parsing dates in %m/%d/%Y format when dayfirst=True was specified. Pass `dayfirst=False` or specify a format to silence this warning.\n",
      "  return pd.to_datetime(date_str, errors='coerce', dayfirst=True)\n",
      "C:\\Users\\myagi\\AppData\\Local\\Temp\\ipykernel_224140\\2168625490.py:6: UserWarning: Parsing dates in %Y-%m-%d format when dayfirst=True was specified. Pass `dayfirst=False` or specify a format to silence this warning.\n",
      "  return pd.to_datetime(date_str, errors='coerce', dayfirst=True)\n",
      "C:\\Users\\myagi\\AppData\\Local\\Temp\\ipykernel_224140\\2168625490.py:6: UserWarning: Parsing dates in %Y-%m-%d %H:%M:%S format when dayfirst=True was specified. Pass `dayfirst=False` or specify a format to silence this warning.\n",
      "  return pd.to_datetime(date_str, errors='coerce', dayfirst=True)\n"
     ]
    },
    {
     "name": "stdout",
     "output_type": "stream",
     "text": [
      "Dogum Tarihi örnek veriler (düzeltme sonrası): 0   1994-06-04\n",
      "1   1993-11-06\n",
      "2   1986-01-15\n",
      "3   1991-04-06\n",
      "4          NaT\n",
      "Name: Dogum Tarihi, dtype: datetime64[ns]\n",
      "Yas sütunu örnek veriler: 0    20.000000\n",
      "1    21.000000\n",
      "2    28.000000\n",
      "3    23.000000\n",
      "4    19.238066\n",
      "Name: Yas, dtype: float64\n",
      "Dogum Yeri eksik veri sayısı (düzeltme sonrası): 0\n",
      "Ikametgah Sehri eksik veri sayısı (düzeltme sonrası): 0\n"
     ]
    }
   ],
   "execution_count": 14
  },
  {
   "metadata": {
    "ExecuteTime": {
     "end_time": "2024-09-15T14:57:54.600938Z",
     "start_time": "2024-09-15T14:57:54.597115Z"
    }
   },
   "cell_type": "code",
   "source": "train.columns",
   "id": "4e83856d6fe11d48",
   "outputs": [
    {
     "data": {
      "text/plain": [
       "Index(['Basvuru Yili', 'Degerlendirme Puani', 'Cinsiyet', 'Dogum Tarihi',\n",
       "       'Dogum Yeri', 'Ikametgah Sehri', 'Universite Adi', 'Universite Turu',\n",
       "       'Burslu ise Burs Yuzdesi', 'Burs Aliyor mu?', 'Bölüm',\n",
       "       'Universite Kacinci Sinif', 'Universite Not Ortalamasi',\n",
       "       'Daha Once Baska Bir Universiteden Mezun Olmus', 'Lise Adi',\n",
       "       'Lise Adi Diger', 'Lise Sehir', 'Lise Turu', 'Lise Bolumu',\n",
       "       'Lise Bolum Diger', 'Lise Mezuniyet Notu',\n",
       "       'Baska Bir Kurumdan Burs Aliyor mu?', 'Burs Aldigi Baska Kurum',\n",
       "       'Baska Kurumdan Aldigi Burs Miktari', 'Anne Egitim Durumu',\n",
       "       'Anne Calisma Durumu', 'Anne Sektor', 'Baba Egitim Durumu',\n",
       "       'Baba Calisma Durumu', 'Baba Sektor', 'Kardes Sayisi',\n",
       "       'Girisimcilik Kulupleri Tarzi Bir Kulube Uye misiniz?',\n",
       "       'Uye Oldugunuz Kulubun Ismi',\n",
       "       'Profesyonel Bir Spor Daliyla Mesgul musunuz?',\n",
       "       'Spor Dalindaki Rolunuz Nedir?', 'Aktif olarak bir STK üyesi misiniz?',\n",
       "       'Hangi STK'nin Uyesisiniz?', 'Stk Projesine Katildiniz Mi?',\n",
       "       'Girisimcilikle Ilgili Deneyiminiz Var Mi?',\n",
       "       'Girisimcilikle Ilgili Deneyiminizi Aciklayabilir misiniz?',\n",
       "       'Ingilizce Biliyor musunuz?', 'Ingilizce Seviyeniz?',\n",
       "       'Daha Önceden Mezun Olunduysa, Mezun Olunan Üniversite', 'id', 'Yas'],\n",
       "      dtype='object')"
      ]
     },
     "execution_count": 15,
     "metadata": {},
     "output_type": "execute_result"
    }
   ],
   "execution_count": 15
  },
  {
   "metadata": {
    "ExecuteTime": {
     "end_time": "2024-09-15T14:59:17.082374Z",
     "start_time": "2024-09-15T14:59:17.051879Z"
    }
   },
   "cell_type": "code",
   "source": [
    "# 7. Universite Adi: Eksik verileri dolduralım\n",
    "print(\"Universite Adi eksik veri sayısı:\", train['Universite Adi'].isnull().sum())\n",
    "mode_universite_adi = train['Universite Adi'].mode()[0]\n",
    "train['Universite Adi'] = train['Universite Adi'].fillna(mode_universite_adi)\n",
    "test['Universite Adi'] = test['Universite Adi'].fillna(mode_universite_adi)\n",
    "\n",
    "# 8. Universite Turu: Eksik verileri dolduralım\n",
    "print(\"Universite Turu eksik veri sayısı:\", train['Universite Turu'].isnull().sum())\n",
    "mode_universite_turu = train['Universite Turu'].mode()[0]\n",
    "train['Universite Turu'] = train['Universite Turu'].fillna(mode_universite_turu)\n",
    "test['Universite Turu'] = test['Universite Turu'].fillna(mode_universite_turu)\n",
    "\n",
    "# Düzeltmelerden sonra verileri kontrol edelim\n",
    "print(\"Universite Adi eşsiz değerler:\", train['Universite Adi'].unique())\n",
    "print(\"Universite Adi eksik veri sayısı (düzeltme sonrası):\", train['Universite Adi'].isnull().sum())\n",
    "print(\"Universite Turu eşsiz değerler:\", train['Universite Turu'].unique())\n",
    "print(\"Universite Turu eksik veri sayısı (düzeltme sonrası):\", train['Universite Turu'].isnull().sum())\n"
   ],
   "id": "a3c928d36a85dadd",
   "outputs": [
    {
     "name": "stdout",
     "output_type": "stream",
     "text": [
      "Universite Adi eksik veri sayısı: 132\n",
      "Universite Turu eksik veri sayısı: 255\n",
      "Universite Adi eşsiz değerler: ['İHSAN DOĞRAMACI BİLKENT' 'ULUSLARARASI KIBRIS ÜNİVERSİTESİ'\n",
      " 'İSTANBUL ŞEHİR ÜNİVERSİTESİ' 'TURGUT ÖZAL ÜNİVERSİTESİ'\n",
      " 'İSTANBUL TİCARET ÜNİVERSİTESİ' 'İSTANBUL MEDİPOL ÜNİVERSİTESİ'\n",
      " 'FATİH SULTAN MEHMET VAKIF' 'BAHÇEŞEHİR ÜNİVERSİTESİ'\n",
      " 'NUH NACİ YAZGAN ÜNİVERSİTESİ' 'FATİH ÜNİVERSİTESİ'\n",
      " 'BAŞKENT ÜNİVERSİTESİ' 'ÇAĞ ÜNİVERSİTESİ' 'İZMİR ÜNİVERSİTESİ'\n",
      " 'ZİRVE ÜNİVERSİTESİ' 'YAŞAR ÜNİVERSİTESİ' 'İSTANBUL AREL ÜNİVERSİTESİ'\n",
      " 'TED ÜNİVERSİTESİ' 'YENİ YÜZYIL ÜNİVERSİTESİ'\n",
      " 'İZMİR EKONOMİ ÜNİVERSİTESİ' 'İSTANBUL BİLGİ ÜNİVERSİTESİ'\n",
      " 'İSTANBUL GELİŞİM ÜNİVERSİTESİ' 'BEYKENT ÜNİVERSİTESİ'\n",
      " 'AVRASYA ÜNİVERSİTESİ' 'OKAN ÜNİVERSİTESİ' 'KOÇ ÜNİVERSİTESİ'\n",
      " 'HALİÇ ÜNİVERSİTESİ' 'IŞIK ÜNİVERSİTESİ' 'ATILIM ÜNİVERSİTESİ'\n",
      " 'NİŞANTAŞI ÜNİVERSİTESİ' 'İSTANBUL AYDIN ÜNİVERSİTESİ'\n",
      " 'UFUK ÜNİVERSİTESİ' 'SABANCI ÜNİVERSİTESİ'\n",
      " 'İSTANBUL 29 MAYIS ÜNİVERSİTESİ' 'MALTEPE ÜNİVERSİTESİ'\n",
      " 'ULUSLARARASI ANTALYA ÜNİVERSİTESİ' 'TOBB EKONOMİ VE TEKNOLOJİ'\n",
      " 'KTO KARATAY ÜNİVERSİTESİ' 'ÇANKAYA ÜNİVERSİTESİ'\n",
      " 'İSTANBUL KÜLTÜR ÜNİVERSİTESİ' 'YEDİTEPE ÜNİVERSİTESİ'\n",
      " 'GİRNE AMERİKAN ÜNİVERSİTESİ' 'HASAN KALYONCU ÜNİVERSİTESİ'\n",
      " 'ÜSKÜDAR ÜNİVERSİTESİ' 'MELİKŞAH ÜNİVERSİTESİ'\n",
      " 'CANİK BAŞARI ÜNİVERSİTESİ' 'KADİR HAS ÜNİVERSİTESİ'\n",
      " 'İSTANBUL ESENYURT ÜNİVERSİTESİ' 'İSTANBUL KAVRAM MESLEK'\n",
      " 'İSTANBUL KEMERBURGAZ ÜNİVERSİTESİ' 'YAKIN DOĞU ÜNİVERSİTESİ'\n",
      " 'GEDİZ ÜNİVERSİTESİ' 'GEDİK ÜNİVERSİTESİ' 'İSTANBUL BİLİM ÜNİVERSİTESİ'\n",
      " 'ŞİFA ÜNİVERSİTESİ' 'ÖZYEĞİN ÜNİVERSİTESİ' 'TOROS ÜNİVERSİTESİ'\n",
      " 'PİRİ REİS ÜNİVERSİTESİ' 'DOĞU AKDENİZ ÜNİVERSİTESİ'\n",
      " 'ULUDAĞ ÜNİVERSİTESİ' 'BURSA ORHANGAZİ ÜNİVERSİTESİ'\n",
      " 'GİRESUN ÜNİVERSİTESİ' 'DOĞUŞ ÜNİVERSİTESİ' 'BEYKOZ LOJİSTİK MESLEK'\n",
      " 'TÜRK HAVA KURUMU ÜNİVERSİTESİ' 'HACETTEPE ÜNİVERSİTESİ'\n",
      " 'İSTANBUL SABAHATTİN ZAİM' 'BOĞAZİÇİ ÜNİVERSİTESİ' 'MEVLANA ÜNİVERSİTESİ'\n",
      " 'OSMANİYE KORKUT ATA ÜNİVERSİTESİ' 'LEFKE AVRUPA ÜNİVERSİTESİ'\n",
      " 'ORTA DOĞU TEKNİK ÜNİVERSİTESİ' 'AMASYA ÜNİVERSİTESİ'\n",
      " 'KOCAELİ ÜNİVERSİTESİ' 'FIRAT ÜNİVERSİTESİ' 'ACIBADEM ÜNİVERSİTESİ'\n",
      " 'SÜLEYMAN ŞAH ÜNİVERSİTESİ' 'MEF ÜNİVERSİTESİ' 'PLATO MESLEK YÜKSEKOKULU'\n",
      " 'ANADOLU ÜNİVERSİTESİ' 'İPEK ÜNİVERSİTESİ'\n",
      " 'ABANT İZZET BAYSAL ÜNİVERSİTESİ' 'İSTANBUL ÜNİVERSİTESİ'\n",
      " 'ALANYA HAMDULLAH EMİN PAŞA' 'BEZM-İ ALEM VAKIF ÜNİVERSİTESİ'\n",
      " 'RECEP TAYYİP ERDOĞAN ÜNİVERSİTESİ' 'ÇUKUROVA ÜNİVERSİTESİ'\n",
      " 'BALIKESİR ÜNİVERSİTESİ' 'Toros Üniversitesi' 'Özyeğin Üniversitesi'\n",
      " 'Yeditepe Üniversitesi' 'Koç Üniversitesi' 'İstanbul Aydın Üniversitesi'\n",
      " 'İstanbul Kültür Üniversitesi' 'Işık Üniversitesi'\n",
      " 'Nuh Naci Yazgan Üniversitesi' 'Gediz Üniversitesi' 'Atılım Üniversitesi'\n",
      " 'Sabancı Üniversitesi' 'Fatih Üniversitesi' 'İzmir Üniversitesi'\n",
      " 'Okan Üniversitesi' 'Çankaya Üniversitesi'\n",
      " 'İstanbul Ticaret Üniversitesi' 'Bahçeşehir Üniversitesi'\n",
      " 'İzmir Ekonomi Üniversitesi' 'İhsan Doğramacı Bilkent Üniversitesi'\n",
      " 'Uluslararası Antalya Üniversitesi' 'İstanbul Bilgi Üniversitesi'\n",
      " 'Acıbadem Üniversitesi' 'Kadir Has Üniversitesi'\n",
      " 'Süleyman Şah Üniversitesi' 'İstanbul Teknik Üniversitesi'\n",
      " 'TED Üniversitesi' 'Yaşar Üniversitesi' 'İstanbul Gelişim Üniversitesi'\n",
      " 'İstanbul Sabahattin Zaim Üniversitesi' 'İstanbul Arel Üniversitesi'\n",
      " 'İstanbul Medipol Üniversitesi' 'Canik Başarı Üniversitesi'\n",
      " 'İpek Üniversitesi' 'MEF Üniversitesi' 'Piri Reis Üniversitesi'\n",
      " 'Melikşah Üniversitesi' 'İstanbul Kavram Meslek Yüksekokulu'\n",
      " 'Plato Meslek Yüksekokulu' 'İstanbul 29 Mayıs Üniversitesi'\n",
      " 'Bursa Orhangazi Üniversitesi' 'Nişantaşı Üniversitesi'\n",
      " 'TOBB Ekonomi ve Teknoloji Üniversitesi' 'İstanbul Şehir Üniversitesi'\n",
      " 'Yeni Yüzyıl Üniversitesi' 'Türk Hava Kurumu Üniversitesi'\n",
      " 'Başkent Üniversitesi' 'Girne Amerikan Üniversitesi'\n",
      " 'Beykent Üniversitesi' 'Mersin Üniversitesi'\n",
      " 'İstanbul Esenyurt Üniversitesi' 'Uluslararası Kıbrıs Üniversitesi'\n",
      " 'Şifa Üniversitesi' 'Zirve Üniversitesi' 'Üsküdar Üniversitesi'\n",
      " 'Hasan Kalyoncu Üniversitesi' 'Avrasya Üniversitesi' 'Doğuş Üniversitesi'\n",
      " 'İstanbul Kemerburgaz Üniversitesi' 'Maltepe Üniversitesi'\n",
      " 'Gedik Üniversitesi' 'Biruni Üniversitesi' 'Mevlana Üniversitesi'\n",
      " 'İstanbul Bilim Üniversitesi' 'Lefke Avrupa Üniversitesi'\n",
      " 'Haliç Üniversitesi' 'KAFKAS ÜNİVERSİTESİ'\n",
      " 'AĞRI İBRAHİM ÇEÇEN ÜNİVERSİTESİ' 'YILDIRIM BEYAZIT ÜNİVERSİTESİ'\n",
      " 'ANKARA ÜNİVERSİTESİ' 'GAZİ ÜNİVERSİTESİ' 'MARMARA ÜNİVERSİTESİ'\n",
      " 'ÇANAKKALE ONSEKİZ MART' 'DİCLE ÜNİVERSİTESİ' 'SAKARYA ÜNİVERSİTESİ'\n",
      " 'SÜLEYMAN DEMİREL ÜNİVERSİTESİ' 'İSTANBUL TEKNİK ÜNİVERSİTESİ'\n",
      " 'DUMLUPINAR ÜNİVERSİTESİ' 'KIRKLARELİ ÜNİVERSİTESİ'\n",
      " 'BAYBURT ÜNİVERSİTESİ' 'ONDOKUZ MAYIS ÜNİVERSİTESİ'\n",
      " 'BÜLENT ECEVİT ÜNİVERSİTESİ' 'GAZİOSMANPAŞA ÜNİVERSİTESİ'\n",
      " 'KARADENİZ TEKNİK ÜNİVERSİTESİ' 'Diğer' 'NAMIK KEMAL ÜNİVERSİTESİ'\n",
      " 'ÇANKIRI KARATEKİN ÜNİVERSİTESİ' 'KARABÜK ÜNİVERSİTESİ'\n",
      " 'MEHMET AKİF ERSOY ÜNİVERSİTESİ' 'ERZİNCAN ÜNİVERSİTESİ'\n",
      " 'SİİRT ÜNİVERSİTESİ' 'TÜRK-ALMAN ÜNİVERSİTESİ' 'TRAKYA ÜNİVERSİTESİ'\n",
      " 'NECMETTİN ERBAKAN ÜNİVERSİTESİ' 'SİNOP ÜNİVERSİTESİ'\n",
      " 'KASTAMONU ÜNİVERSİTESİ' 'YILDIZ TEKNİK ÜNİVERSİTESİ'\n",
      " 'ATATÜRK ÜNİVERSİTESİ' 'ADNAN MENDERES ÜNİVERSİTESİ'\n",
      " 'İZMİR KATİP ÇELEBİ ÜNİVERSİTESİ' 'CELAL BAYAR ÜNİVERSİTESİ'\n",
      " 'MERSİN ÜNİVERSİTESİ' 'UŞAK ÜNİVERSİTESİ'\n",
      " 'MUĞLA SITKI KOÇMAN ÜNİVERSİTESİ' 'ERCİYES ÜNİVERSİTESİ'\n",
      " 'AKDENİZ ÜNİVERSİTESİ' 'GAZİANTEP ÜNİVERSİTESİ'\n",
      " 'MUSTAFA KEMAL ÜNİVERSİTESİ' 'YÜZÜNCÜ YIL ÜNİVERSİTESİ'\n",
      " 'ESKİŞEHİR OSMANGAZİ ÜNİVERSİTESİ' 'BİNGÖL ÜNİVERSİTESİ'\n",
      " 'AKSARAY ÜNİVERSİTESİ' 'EGE ÜNİVERSİTESİ'\n",
      " 'KONYA TARIM VE GIDA ÜNİVERSİTESİ' 'GÜMÜŞHANE ÜNİVERSİTESİ'\n",
      " 'PAMUKKALE ÜNİVERSİTESİ' 'ABDULLAH GÜL ÜNİVERSİTESİ'\n",
      " 'SELÇUK ÜNİVERSİTESİ' 'GALATASARAY ÜNİVERSİTESİ'\n",
      " 'BİLECİK ŞEYH EDEBALİ ÜNİVERSİTESİ' 'MARDİN ARTUKLU ÜNİVERSİTESİ'\n",
      " 'CUMHURİYET ÜNİVERSİTESİ' 'İSTANBUL MEDENİYET ÜNİVERSİTESİ'\n",
      " 'ADIYAMAN ÜNİVERSİTESİ' 'KAHRAMANMARAŞ SÜTÇÜ İMAM'\n",
      " 'DOKUZ EYLÜL ÜNİVERSİTESİ' 'YALOVA ÜNİVERSİTESİ' 'HARRAN ÜNİVERSİTESİ'\n",
      " 'IĞDIR ÜNİVERSİTESİ' 'MUŞ ALPARSLAN ÜNİVERSİTESİ'\n",
      " 'BURSA TEKNİK ÜNİVERSİTESİ' 'GEBZE YÜKSEK TEKNOLOJİ ENSTİTÜSÜ'\n",
      " 'KARAMANOĞLU MEHMETBEY' 'TUNCELİ ÜNİVERSİTESİ' 'ŞIRNAK ÜNİVERSİTESİ'\n",
      " 'NEVŞEHİR HACI BEKTAŞ VELİ' 'BOZOK ÜNİVERSİTESİ'\n",
      " 'KAPADOKYA MESLEK YÜKSEKOKULU' 'ADANA BİLİM VE TEKNOLOJİ'\n",
      " 'HİTİT ÜNİVERSİTESİ' 'NİĞDE ÜNİVERSİTESİ' 'MİMAR SİNAN GÜZEL SANATLAR'\n",
      " 'İNÖNÜ ÜNİVERSİTESİ' 'BİTLİS EREN ÜNİVERSİTESİ'\n",
      " 'ARTVİN ÇORUH ÜNİVERSİTESİ' 'AFYON KOCATEPE ÜNİVERSİTESİ'\n",
      " 'DÜZCE ÜNİVERSİTESİ' 'BARTIN ÜNİVERSİTESİ' 'KIRIKKALE ÜNİVERSİTESİ'\n",
      " 'BİRUNİ ÜNİVERSİTESİ' 'ERZİNCAN BİNALİ YILDIRIM ÜNİVERSİTESİ'\n",
      " 'İHSAN DOĞRAMACI BİLKENT ÜNİVERSİTESİ'\n",
      " 'TOBB EKONOMİ VE TEKNOLOJİ ÜNİVERSİTESİ'\n",
      " 'HATAY MUSTAFA KEMAL ÜNİVERSİTESİ'\n",
      " 'FATİH SULTAN MEHMET VAKIF ÜNİVERSİTESİ' 'AYDIN ADNAN MENDERES'\n",
      " 'İSTANBUL GEDİK ÜNİVERSİTESİ' 'VAN YÜZÜNCÜ YIL ÜNİVERSİTESİ'\n",
      " 'İSTANBUL OKAN ÜNİVERSİTESİ' 'MİMAR SİNAN GÜZEL SANATLAR ÜNİVERSİTESİ'\n",
      " 'ACIBADEM MEHMET ALİ AYDINLAR ÜNİVERSİTESİ'\n",
      " 'TEKİRDAĞ NAMIK KEMAL ÜNİVERSİTESİ' 'ALTINBAŞ ÜNİVERSİTESİ'\n",
      " 'İZMİR YÜKSEK TEKNOLOJİ ENSTİTÜSÜ' 'BEZM-İ ÂLEM VAKIF ÜNİVERSİTESİ'\n",
      " 'FENERBAHÇE ÜNİVERSİTESİ' 'SAĞLIK BİLİMLERİ ÜNİVERSİTESİ'\n",
      " 'İSTANBUL AYVANSARAY ÜNİVERSİTESİ' 'İSTİNYE ÜNİVERSİTESİ'\n",
      " 'İSTANBUL ÜNİVERSİTESİ-' 'İZMİR KAVRAM MESLEK ÜNİVERSİTESİ'\n",
      " 'DEMİROĞLU BİLİM ÜNİVERSİTESİ' 'İSTANBUL RUMELİ ÜNİVERSİTESİ'\n",
      " 'BEYKOZ ÜNİVERSİTESİ' 'İBN HALDUN ÜNİVERSİTESİ'\n",
      " 'İSTANBUL SABAHATTİN ZAİM ÜNİVERSİTESİ' 'KAPADOKYA ÜNİVERSİTESİ'\n",
      " 'İZMİR DEMOKRASİ ÜNİVERSİTESİ' 'NİĞDE ÖMER HALİSDEMİR'\n",
      " 'İSTANBUL KENT ÜNİVERSİTESİ' 'BURSA ULUDAĞ ÜNİVERSİTESİ'\n",
      " 'KARAMANOĞLU MEHMETBEY ÜNİVERSİTESİ' 'KONYA GIDA VE TARIM ÜNİVERSİTESİ'\n",
      " 'ZONGULDAK BÜLENT ECEVİT ÜNİVERSİTESİ' 'ESKİŞEHİR TEKNİK ÜNİVERSİTESİ'\n",
      " 'KOCAELİ SAĞLIK VE TEKNOLOJİ ÜNİVERSİTESİ'\n",
      " 'KIRŞEHİR AHİ EVRAN ÜNİVERSİTESİ' 'ANKARA MEDİPOL ÜNİVERSİTESİ'\n",
      " 'ANKARA YILDIRIM BEYAZIT ÜNİVERSİTESİ' 'OSTİM TEKNİK ÜNİVERSİTESİ'\n",
      " 'MUNZUR ÜNİVERSİTESİ' 'TOKAT GAZİOSMANPAŞA ÜNİVERSİTESİ'\n",
      " 'SİVAS CUMHURİYET ÜNİVERSİTESİ' 'KİLİS 7 ARALIK ÜNİVERSİTESİ'\n",
      " 'ÇANAKKALE ONSEKİZ MART ÜNİVERSİTESİ'\n",
      " 'ANKARA HACI BAYRAM VELİ ÜNİVERSİTESİ'\n",
      " 'İSTANBUL YENİ YÜZYIL ÜNİVERSİTESİ' 'BATMAN ÜNİVERSİTESİ'\n",
      " 'TRABZON ÜNİVERSİTESİ' 'ANKARA SOSYAL BİLİMLER ÜNİVERSİTESİ'\n",
      " 'ISPARTA UYGULAMALI BİLİMLER ÜNİVERSİTESİ'\n",
      " 'KAHRAMANMARAŞ SÜTÇÜ İMAM ÜNİVERSİTESİ' 'MANİSA CELÂL BAYAR ÜNİVERSİTESİ'\n",
      " 'İSTANBUL SAĞLIK VE TEKNOLOJİ ÜNİVERSİTESİ'\n",
      " 'İSTANBUL ŞİŞLİ MESLEK ÜNİVERSİTESİ' 'ANTALYA AKEV ÜNİVERSİTESİ'\n",
      " 'KÜTAHYA SAĞLIK BİLİMLERİ ÜNİVERSİTESİ'\n",
      " 'ALANYA ALAADDİN KEYKUBAT ÜNİVERSİTESİ'\n",
      " 'AFYONKARAHİSAR SAĞLIK BİLİMLERİ ÜNİVERSİTESİ'\n",
      " 'BANDIRMA ONYEDİ EYLÜL ÜNİVERSİTESİ' 'İSKENDERUN TEKNİK ÜNİVERSİTESİ'\n",
      " 'FARUK SARAÇ TASARIM MESLEK YÜKSEKOKULU (İSTANBUL)'\n",
      " 'ARDAHAN ÜNİVERSİTESİ' 'İSTANBUL GALATA ÜNİVERSİTESİ'\n",
      " 'GEBZE TEKNİK ÜNİVERSİTESİ' 'NEVŞEHİR HACI BEKTAŞ VELİ ÜNİVERSİTESİ'\n",
      " 'SANKO ÜNİVERSİTESİ' 'İSTANBUL ATLAS ÜNİVERSİTESİ' 'HAKKARİ ÜNİVERSİTESİ'\n",
      " 'ALANYA HAMDULLAH EMİN PAŞA ÜNİVERSİTESİ' 'YOZGAT BOZOK ÜNİVERSİTESİ'\n",
      " 'KÜTAHYA DUMLUPINAR ÜNİVERSİTESİ' 'LOKMAN HEKİM ÜNİVERSİTESİ'\n",
      " 'ANTALYA BİLİM ÜNİVERSİTESİ' 'ANKARA BİLİM ÜNİVERSİTESİ'\n",
      " 'İZMİR BAKIRÇAY ÜNİVERSİTESİ' 'KONYA TEKNİK ÜNİVERSİTESİ'\n",
      " 'ADANA ALPARSLAN TÜRKEŞ BİLİM VE' 'Çağ Üniversitesi'\n",
      " 'Yüzüncü Yıl Üniversitesi' 'Fatih Sultan Mehmet Vakıf Üniversitesi'\n",
      " 'YÜKSEK İHTİSAS ÜNİVERSİTESİ' 'İSTANBUL ŞİŞLİ MESLEK YÜKSEKOKULU'\n",
      " 'FARUK SARAÇ TASARIM MESLEK' 'Doğu Akdeniz Üniversitesi'\n",
      " 'Bozok Üniversitesi' 'Bezmiâlem Üniversitesi' 'Ufuk Üniversitesi'\n",
      " 'Turgut Özal Üniversitesi' 'SAMSUN ÜNİVERSİTESİ'\n",
      " 'İZMİR TINAZTEPE ÜNİVERSİTESİ' 'SELAHADDİN EYYUBİ ÜNİVERSİTESİ'\n",
      " 'KTO Karatay Üniversitesi' 'AVRUPA MESLEK YÜKSEKOKULU'\n",
      " 'ERZURUM TEKNİK ÜNİVERSİTESİ' 'BOLU ABANT İZZET BAYSAL ÜNİVERSİTESİ'\n",
      " 'SAKARYA UYGULAMALI BİLİMLER ÜNİVERSİTESİ' 'AKDENİZ KARPAZ ÜNİVERSİTESİ'\n",
      " 'KIRGIZİSTAN-TÜRKİYE MANAS' 'AHİ EVRAN ÜNİVERSİTESİ' 'ORDU ÜNİVERSİTESİ'\n",
      " 'HOCA AHMET YESEVİ TÜRK-KAZAK' 'ANKARA SOSYAL BİLİMLER' 'POLİS AKADEMİSİ'\n",
      " 'Bülent Ecevit Üniversitesi' 'Akdeniz Üniversitesi' 'Ankara Üniversitesi'\n",
      " 'Eskişehir Osmangazi Üniversitesi' 'İnönü Üniversitesi'\n",
      " 'Yıldız Teknik Üniversitesi' 'Bartın Üniversitesi' 'Karabük Üniversitesi'\n",
      " 'Namık Kemal Üniversitesi' 'Ege Üniversitesi' 'İstanbul Üniversitesi'\n",
      " 'Erciyes Üniversitesi' 'Kocaeli Üniversitesi' 'Anadolu Üniversitesi'\n",
      " 'Marmara Üniversitesi' 'Uludağ Üniversitesi' 'Fırat Üniversitesi'\n",
      " 'Orta Doğu Teknik Üniversitesi' 'Gazi Üniversitesi'\n",
      " 'Yıldırım Beyazıt Üniversitesi' 'Celal Bayar Üniversitesi'\n",
      " 'Atatürk Üniversitesi' 'Pamukkale Üniversitesi'\n",
      " 'Osmaniye Korkut Ata Üniversitesi' 'Bingöl Üniversitesi'\n",
      " 'İskenderun Teknik Üniversitesi' 'Trakya Üniversitesi'\n",
      " 'Hacettepe Üniversitesi' 'Selçuk Üniversitesi'\n",
      " 'Gebze Teknik Üniversitesi' 'Dumlupınar Üniversitesi'\n",
      " 'Adnan Menderes Üniversitesi' 'Boğaziçi Üniversitesi'\n",
      " 'Gaziantep Üniversitesi' 'Giresun Üniversitesi' 'Sakarya Üniversitesi'\n",
      " 'Dokuz Eylül Üniversitesi' 'Erzincan Üniversitesi'\n",
      " 'Galatasaray Üniversitesi' 'Süleyman Demirel Üniversitesi'\n",
      " 'Harran Üniversitesi' 'Mehmet Akif Ersoy Üniversitesi'\n",
      " 'Ondokuz Mayıs Üniversitesi' 'Mimar Sinan Güzel Sanatlar Üniversitesi'\n",
      " 'Kırıkkale Üniversitesi' 'Kilis 7 Aralık Üniversitesi'\n",
      " 'Düzce Üniversitesi' 'Karadeniz Teknik Üniversitesi'\n",
      " 'Yalova Üniversitesi' 'İzmir Katip Çelebi Üniversitesi'\n",
      " 'Mustafa Kemal Üniversitesi' 'Alanya Alaaddin Keykubat Üniversitesi'\n",
      " 'Afyon Kocatepe Üniversitesi' 'Ağrı İbrahim Çeçen Üniversitesi'\n",
      " 'Aksaray Üniversitesi' 'Recep Tayyip Erdoğan Üniversitesi'\n",
      " 'Tunceli Üniversitesi' 'Dicle Üniversitesi'\n",
      " 'Abant İzzet Baysal Üniversitesi' 'Kırklareli Üniversitesi'\n",
      " 'Bandırma Onyedi Eylül Üniversitesi'\n",
      " 'Kahramanmaraş Sütçü İmam Üniversitesi' 'Niğde Üniversitesi'\n",
      " 'Çukurova Üniversitesi' 'Balıkesir Üniversitesi' 'Amasya Üniversitesi'\n",
      " 'Çanakkale Onsekiz Mart Üniversitesi' 'Abdullah Gül Üniversitesi'\n",
      " 'Cumhuriyet Üniversitesi' 'Muğla Sıtkı Koçman Üniversitesi'\n",
      " 'İzmir Yüksek Teknoloji Enstitüsü' 'Necmettin Erbakan Üniversitesi'\n",
      " 'Bursa Teknik Üniversitesi' 'Karamanoğlu Mehmetbey Üniversitesi'\n",
      " 'Sinop Üniversitesi' 'Adıyaman Üniversitesi'\n",
      " 'İstanbul Medeniyet Üniversitesi' 'Ahi Evran Üniversitesi'\n",
      " 'Kastamonu Üniversitesi' 'Bitlis Eren Üniversitesi' 'Ordu Üniversitesi'\n",
      " 'Bilecik Şeyh Edebali Üniversitesi'\n",
      " 'Adana Bilim ve Teknoloji Üniversitesi' 'Siirt Üniversitesi'\n",
      " 'Gümüşhane Üniversitesi' 'Nevşehir Hacı Bektaş Veli Üniversitesi'\n",
      " 'Hitit Üniversitesi' 'Uşak Üniversitesi' 'Batman Üniversitesi'\n",
      " 'Gaziosmanpaşa Üniversitesi' 'Erzurum Teknik Üniversitesi'\n",
      " 'Bayburt Üniversitesi' 'Selahaddin Eyyubi Üniversitesi'\n",
      " 'Çankırı Karatekin Üniversitesi' 'Türk-Alman Üniversitesi'\n",
      " 'Mardin Artuklu Üniversitesi' 'Muş Alparslan Üniversitesi'\n",
      " 'Hakkari Üniversitesi' 'Ardahan Üniversitesi'\n",
      " 'HARP AKADEMİLERİ (KARA, DENİZ,' 'BURDUR MEHMET AKİF ERSOY ÜNİVERSİTESİ'\n",
      " 'KAYSERİ ÜNİVERSİTESİ' 'TARSUS ÜNİVERSİTESİ'\n",
      " 'KAHRAMANMARAŞ İSTİKLAL ÜNİVERSİTESİ'\n",
      " 'ANKARA MÜZİK VE GÜZEL SANATLAR ÜNİVERSİTESİ'\n",
      " 'MALATYA TURGUT ÖZAL ÜNİVERSİTESİ'\n",
      " 'GAZİANTEP İSLAM BİLİM VE TEKNOLOJİ ÜNİVERSİTESİ'\n",
      " 'Aydın Adnan Menderes Üniversitesi' 'Bursa Uludağ Üniversitesi'\n",
      " 'Erzincan Binali Yıldırım Üniversitesi' 'Fenerbahçe Üniversitesi'\n",
      " 'Eskişehir Teknik Üniversitesi' 'Ankara Yıldırım Beyazıt Üniversitesi'\n",
      " 'Kırşehir Ahi Evran Üniversitesi' 'Sağlık Bilimleri Üniversitesi'\n",
      " 'Afyonkarahisar Sağlık Bilimleri Üniversitesi'\n",
      " 'Konya Gıda ve Tarım Üniversitesi' 'Tokat Gaziosmanpaşa Üniversitesi'\n",
      " 'Manisa Celal Bayar Üniversitesi' 'İbn Haldun Üniversitesi'\n",
      " 'Adana Alparslan Türkeş Bilim ve Teknoloji Üniversitesi'\n",
      " 'İstanbul Üniversitesi-Cerrahpaşa' 'Ankara Medipol Üniversitesi'\n",
      " 'Bolu Abant İzzet Baysal Üniversitesi' 'Sivas Cumhuriyet Üniversitesi'\n",
      " 'Van Yüzüncü Yıl Üniversitesi' 'Yozgat Bozok Üniversitesi'\n",
      " 'Tekirdağ Namık Kemal Üniversitesi' 'Trabzon Üniversitesi'\n",
      " 'İzmir Bakırçay Üniversitesi' 'İstanbul Kent Üniversitesi'\n",
      " 'Niğde Ömer Halisdemir Üniversitesi' 'Bezmialem Vakıf Üniversitesi'\n",
      " 'Munzur Üniversitesi' 'Zonguldak Bülent Ecevit Üniversitesi'\n",
      " 'Samsun Üniversitesi' 'Şırnak Üniversitesi' 'İstinye Üniversitesi'\n",
      " 'Brown University' 'University of Southern California'\n",
      " 'Kütahya Sağlık Bilimleri Üniversitesi' 'Kafkas Üniversitesi'\n",
      " 'İzmir Kâtip Çelebi Üniversitesi' 'Burdur Mehmet Akif Ersoy Üniversitesi'\n",
      " 'Ankara Sosyal Bilimler Üniversitesi'\n",
      " 'Ankara Hacı Bayram Veli Üniversitesi' 'İzmir Demokrasi Üniversitesi'\n",
      " 'Altınbaş Üniversitesi' 'Gaziantep İslam Bilim ve Teknoloji Üniversitesi'\n",
      " 'Kahramanmaraş İstiklal Üniversitesi' 'Kütahya Dumlupınar Üniversitesi'\n",
      " 'İstanbul Gedik Üniversitesi' 'İzmir Kavram Meslek Yüksekokulu'\n",
      " 'Bard College' 'Sakarya Uygulamalı Bilimler Üniversitesi'\n",
      " 'Uluslararası Final Üniversitesi' 'İstanbul Galata Üniversitesi'\n",
      " 'Sanko Üniversitesi' 'Beykoz Üniversitesi' 'Konya Teknik Üniversitesi'\n",
      " 'Isparta Uygulamalı Bilimler Üniversitesi'\n",
      " 'Hatay Mustafa Kemal Üniversitesi' 'İstanbul Okan Üniversitesi'\n",
      " 'Antalya Bilim Üniversitesi' 'Artvin Çoruh Üniversitesi'\n",
      " 'Fatih Sultan Mehmet Üniversitesi' 'Tarsus Üniversitesi'\n",
      " 'İstanbul Sağlık ve Teknoloji Üniversitesi' 'Antalya Akev Üniversitesi'\n",
      " 'Yüksek İhtisas Üniversitesi' 'İstanbul Topkapı Üniversitesi'\n",
      " 'Ostim Teknik Üniversitesi' 'Yakın Doğu Üniversitesi'\n",
      " 'Lokman Hekim Üniversitesi' 'Malatya Turgut Özal Üniversitesi'\n",
      " 'İstanbul Rumeli Üniversitesi' 'İzmir Tınaztepe Üniversitesi'\n",
      " 'Kayseri Üniversitesi' 'Iğdır Üniversitesi'\n",
      " 'Ankara Sosyal Bilimler Üniversitesi Kuzey Kıbrıs Kampüsü'\n",
      " 'Kocaeli Sağlık ve Teknoloji Üniversitesi' 'Ankara Bilim Üniversitesi'\n",
      " 'Jandarma ve Sahil Güvenlik Akademisi(Askeri)' 'Kapadokya Üniversitesi'\n",
      " 'Milli Savunma Üniversitesi (Askerî)' 'Demiroğlu Bilim Üniversitesi'\n",
      " 'İstanbul Atlas Üniversitesi']\n",
      "Universite Adi eksik veri sayısı (düzeltme sonrası): 0\n",
      "Universite Turu eşsiz değerler: ['Özel' 'Devlet' 'DEVLET' 'ÖZEL']\n",
      "Universite Turu eksik veri sayısı (düzeltme sonrası): 0\n"
     ]
    }
   ],
   "execution_count": 16
  },
  {
   "metadata": {
    "ExecuteTime": {
     "end_time": "2024-09-15T15:14:22.200058Z",
     "start_time": "2024-09-15T15:14:22.174932Z"
    }
   },
   "cell_type": "code",
   "source": [
    "\n",
    "# Üniversite Adı için dönüşüm\n",
    "train['Universite Adi'] = train['Universite Adi'].str.lower()  # Hepsini küçük harfe çeviriyoruz\n",
    "train['Universite Adi'] = train['Universite Adi'].fillna('Bilinmiyor')  # Eksik değerleri dolduruyoruz\n",
    "\n",
    "\n",
    "# Üniversite Türü için eksik değerleri doldurma\n",
    "train['Universite Turu'] = train['Universite Turu'].fillna('Belirtilmemiş')\n",
    "\n",
    "\n"
   ],
   "id": "d38715358006361d",
   "outputs": [],
   "execution_count": 25
  },
  {
   "metadata": {
    "ExecuteTime": {
     "end_time": "2024-09-15T15:17:19.628929Z",
     "start_time": "2024-09-15T15:17:19.625477Z"
    }
   },
   "cell_type": "code",
   "source": "train.columns",
   "id": "2bddfa31b7995476",
   "outputs": [
    {
     "data": {
      "text/plain": [
       "Index(['Basvuru Yili', 'Degerlendirme Puani', 'Cinsiyet', 'Dogum Tarihi',\n",
       "       'Dogum Yeri', 'Ikametgah Sehri', 'Universite Adi', 'Universite Turu',\n",
       "       'Burslu ise Burs Yuzdesi', 'Burs Aliyor mu?', 'Bölüm',\n",
       "       'Universite Kacinci Sinif', 'Universite Not Ortalamasi',\n",
       "       'Daha Once Baska Bir Universiteden Mezun Olmus', 'Lise Adi',\n",
       "       'Lise Adi Diger', 'Lise Sehir', 'Lise Turu', 'Lise Bolumu',\n",
       "       'Lise Bolum Diger', 'Lise Mezuniyet Notu',\n",
       "       'Baska Bir Kurumdan Burs Aliyor mu?', 'Burs Aldigi Baska Kurum',\n",
       "       'Baska Kurumdan Aldigi Burs Miktari', 'Anne Egitim Durumu',\n",
       "       'Anne Calisma Durumu', 'Anne Sektor', 'Baba Egitim Durumu',\n",
       "       'Baba Calisma Durumu', 'Baba Sektor', 'Kardes Sayisi',\n",
       "       'Girisimcilik Kulupleri Tarzi Bir Kulube Uye misiniz?',\n",
       "       'Uye Oldugunuz Kulubun Ismi',\n",
       "       'Profesyonel Bir Spor Daliyla Mesgul musunuz?',\n",
       "       'Spor Dalindaki Rolunuz Nedir?', 'Aktif olarak bir STK üyesi misiniz?',\n",
       "       'Hangi STK'nin Uyesisiniz?', 'Stk Projesine Katildiniz Mi?',\n",
       "       'Girisimcilikle Ilgili Deneyiminiz Var Mi?',\n",
       "       'Girisimcilikle Ilgili Deneyiminizi Aciklayabilir misiniz?',\n",
       "       'Ingilizce Biliyor musunuz?', 'Ingilizce Seviyeniz?',\n",
       "       'Daha Önceden Mezun Olunduysa, Mezun Olunan Üniversite', 'id', 'Yas'],\n",
       "      dtype='object')"
      ]
     },
     "execution_count": 31,
     "metadata": {},
     "output_type": "execute_result"
    }
   ],
   "execution_count": 31
  },
  {
   "metadata": {
    "ExecuteTime": {
     "end_time": "2024-09-15T15:17:48.503880Z",
     "start_time": "2024-09-15T15:17:48.500109Z"
    }
   },
   "cell_type": "code",
   "source": "train['Burslu ise Burs Yuzdesi'] = train['Burslu ise Burs Yuzdesi'].fillna(0)\n",
   "id": "92e7f3468a73e255",
   "outputs": [],
   "execution_count": 32
  },
  {
   "metadata": {
    "ExecuteTime": {
     "end_time": "2024-09-15T15:18:54.190777Z",
     "start_time": "2024-09-15T15:18:54.185240Z"
    }
   },
   "cell_type": "code",
   "source": "train['Burs Aliyor mu?'].isnull().sum()",
   "id": "33df80b2b9be1c82",
   "outputs": [
    {
     "data": {
      "text/plain": [
       "0"
      ]
     },
     "execution_count": 37,
     "metadata": {},
     "output_type": "execute_result"
    }
   ],
   "execution_count": 37
  },
  {
   "metadata": {
    "ExecuteTime": {
     "end_time": "2024-09-15T15:19:06.765081Z",
     "start_time": "2024-09-15T15:19:06.759165Z"
    }
   },
   "cell_type": "code",
   "source": "train['Bölüm'].isnull().sum()",
   "id": "c3902a7ff6c73244",
   "outputs": [
    {
     "data": {
      "text/plain": [
       "231"
      ]
     },
     "execution_count": 38,
     "metadata": {},
     "output_type": "execute_result"
    }
   ],
   "execution_count": 38
  },
  {
   "metadata": {
    "ExecuteTime": {
     "end_time": "2024-09-15T15:19:25.078668Z",
     "start_time": "2024-09-15T15:19:25.072381Z"
    }
   },
   "cell_type": "code",
   "source": "train['Bölüm'] = train['Bölüm'].fillna('Diğer')",
   "id": "171aae87baa626de",
   "outputs": [],
   "execution_count": 39
  },
  {
   "metadata": {
    "ExecuteTime": {
     "end_time": "2024-09-15T15:19:27.657782Z",
     "start_time": "2024-09-15T15:19:27.652608Z"
    }
   },
   "cell_type": "code",
   "source": "train['Bölüm'].isnull().sum()",
   "id": "94af19b035df9b74",
   "outputs": [
    {
     "data": {
      "text/plain": [
       "0"
      ]
     },
     "execution_count": 40,
     "metadata": {},
     "output_type": "execute_result"
    }
   ],
   "execution_count": 40
  },
  {
   "metadata": {
    "ExecuteTime": {
     "end_time": "2024-09-15T15:19:44.520335Z",
     "start_time": "2024-09-15T15:19:44.514913Z"
    }
   },
   "cell_type": "code",
   "source": [
    "#Universite Kacinci Sinif\n",
    "train['Universite Kacinci Sinif'].isnull().sum()"
   ],
   "id": "53ad3980d462e81d",
   "outputs": [
    {
     "data": {
      "text/plain": [
       "374"
      ]
     },
     "execution_count": 42,
     "metadata": {},
     "output_type": "execute_result"
    }
   ],
   "execution_count": 42
  },
  {
   "metadata": {
    "ExecuteTime": {
     "end_time": "2024-09-15T15:20:08.117972Z",
     "start_time": "2024-09-15T15:20:08.113192Z"
    }
   },
   "cell_type": "code",
   "source": "train['Universite Kacinci Sinif'].sum",
   "id": "d9c4392e2a96762f",
   "outputs": [
    {
     "data": {
      "text/plain": [
       "<bound method Series.sum of 0          3\n",
       "1          3\n",
       "2          1\n",
       "3          3\n",
       "4        NaN\n",
       "        ... \n",
       "65119      2\n",
       "65120      2\n",
       "65121      1\n",
       "65122      4\n",
       "65123      3\n",
       "Name: Universite Kacinci Sinif, Length: 65124, dtype: object>"
      ]
     },
     "execution_count": 44,
     "metadata": {},
     "output_type": "execute_result"
    }
   ],
   "execution_count": 44
  },
  {
   "metadata": {
    "ExecuteTime": {
     "end_time": "2024-09-15T15:20:23.979515Z",
     "start_time": "2024-09-15T15:20:23.973191Z"
    }
   },
   "cell_type": "code",
   "source": "train['Universite Kacinci Sinif'] = train['Universite Kacinci Sinif'].fillna(1)",
   "id": "ee24f5442fcdead0",
   "outputs": [],
   "execution_count": 45
  },
  {
   "metadata": {
    "ExecuteTime": {
     "end_time": "2024-09-15T15:20:57.983168Z",
     "start_time": "2024-09-15T15:20:57.975587Z"
    }
   },
   "cell_type": "code",
   "source": [
    "#Universite Not Ortalamasi\n",
    "train['Universite Not Ortalamasi'].isnull().sum()\n",
    "train['Universite Not Ortalamasi'] = train['Universite Not Ortalamasi'].fillna(0)"
   ],
   "id": "d836813fb1dcfe8f",
   "outputs": [],
   "execution_count": 49
  },
  {
   "metadata": {
    "ExecuteTime": {
     "end_time": "2024-09-15T15:21:02.476832Z",
     "start_time": "2024-09-15T15:21:02.470176Z"
    }
   },
   "cell_type": "code",
   "source": "train['Universite Not Ortalamasi'].isnull().sum()",
   "id": "32eeb0a13867d552",
   "outputs": [
    {
     "data": {
      "text/plain": [
       "0"
      ]
     },
     "execution_count": 50,
     "metadata": {},
     "output_type": "execute_result"
    }
   ],
   "execution_count": 50
  },
  {
   "metadata": {
    "ExecuteTime": {
     "end_time": "2024-09-15T15:23:48.865139Z",
     "start_time": "2024-09-15T15:23:48.802547Z"
    }
   },
   "cell_type": "code",
   "source": [
    "columns = [\n",
    "    'Basvuru Yili', 'Degerlendirme Puani', 'Cinsiyet', 'Dogum Tarihi',\n",
    "       'Dogum Yeri', 'Ikametgah Sehri', 'Universite Adi', 'Universite Turu',\n",
    "       'Burslu ise Burs Yuzdesi', 'Burs Aliyor mu?', 'Bölüm',\n",
    "       'Universite Kacinci Sinif', 'Universite Not Ortalamasi',\n",
    "       'Daha Once Baska Bir Universiteden Mezun Olmus', 'Lise Adi',\n",
    "       'Lise Adi Diger', 'Lise Sehir', 'Lise Turu', 'Lise Bolumu',\n",
    "       'Lise Bolum Diger', 'Lise Mezuniyet Notu',\n",
    "       'Baska Bir Kurumdan Burs Aliyor mu?', 'Burs Aldigi Baska Kurum',\n",
    "       'Baska Kurumdan Aldigi Burs Miktari', 'Anne Egitim Durumu',\n",
    "       'Anne Calisma Durumu', 'Anne Sektor', 'Baba Egitim Durumu',\n",
    "       'Baba Calisma Durumu', 'Baba Sektor', 'Kardes Sayisi',\n",
    "       'Girisimcilik Kulupleri Tarzi Bir Kulube Uye misiniz?',\n",
    "       'Uye Oldugunuz Kulubun Ismi',\n",
    "       'Profesyonel Bir Spor Daliyla Mesgul musunuz?',\n",
    "       'Spor Dalindaki Rolunuz Nedir?', 'Aktif olarak bir STK üyesi misiniz?',\n",
    "       'Hangi STK\\'nin Uyesisiniz?', 'Stk Projesine Katildiniz Mi?',\n",
    "       'Girisimcilikle Ilgili Deneyiminiz Var Mi?',\n",
    "       'Girisimcilikle Ilgili Deneyiminizi Aciklayabilir misiniz?',\n",
    "       'Ingilizce Biliyor musunuz?', 'Ingilizce Seviyeniz?',\n",
    "       'Daha Önceden Mezun Olunduysa, Mezun Olunan Üniversite', 'id', 'Yas'\n",
    "]\n",
    "\n",
    "for column in columns:\n",
    "    print(f\"{column}: {train[column].isnull().sum()}\")\n"
   ],
   "id": "b5952f0862fbe904",
   "outputs": [
    {
     "name": "stdout",
     "output_type": "stream",
     "text": [
      "Basvuru Yili: 0\n",
      "Degerlendirme Puani: 0\n",
      "Cinsiyet: 0\n",
      "Dogum Tarihi: 3116\n",
      "Dogum Yeri: 0\n",
      "Ikametgah Sehri: 0\n",
      "Universite Adi: 0\n",
      "Universite Turu: 0\n",
      "Burslu ise Burs Yuzdesi: 0\n",
      "Burs Aliyor mu?: 0\n",
      "Bölüm: 0\n",
      "Universite Kacinci Sinif: 0\n",
      "Universite Not Ortalamasi: 0\n",
      "Daha Once Baska Bir Universiteden Mezun Olmus: 37344\n",
      "Lise Adi: 384\n",
      "Lise Adi Diger: 60391\n",
      "Lise Sehir: 1054\n",
      "Lise Turu: 847\n",
      "Lise Bolumu: 1009\n",
      "Lise Bolum Diger: 63598\n",
      "Lise Mezuniyet Notu: 5917\n",
      "Baska Bir Kurumdan Burs Aliyor mu?: 231\n",
      "Burs Aldigi Baska Kurum: 43977\n",
      "Baska Kurumdan Aldigi Burs Miktari: 44162\n",
      "Anne Egitim Durumu: 406\n",
      "Anne Calisma Durumu: 11896\n",
      "Anne Sektor: 34537\n",
      "Baba Egitim Durumu: 1007\n",
      "Baba Calisma Durumu: 12618\n",
      "Baba Sektor: 20378\n",
      "Kardes Sayisi: 1132\n",
      "Girisimcilik Kulupleri Tarzi Bir Kulube Uye misiniz?: 1829\n",
      "Uye Oldugunuz Kulubun Ismi: 48690\n",
      "Profesyonel Bir Spor Daliyla Mesgul musunuz?: 1115\n",
      "Spor Dalindaki Rolunuz Nedir?: 32275\n",
      "Aktif olarak bir STK üyesi misiniz?: 12842\n",
      "Hangi STK'nin Uyesisiniz?: 49518\n",
      "Stk Projesine Katildiniz Mi?: 28307\n",
      "Girisimcilikle Ilgili Deneyiminiz Var Mi?: 12840\n",
      "Girisimcilikle Ilgili Deneyiminizi Aciklayabilir misiniz?: 50526\n",
      "Ingilizce Biliyor musunuz?: 6454\n",
      "Ingilizce Seviyeniz?: 36532\n",
      "Daha Önceden Mezun Olunduysa, Mezun Olunan Üniversite: 64705\n",
      "id: 0\n",
      "Yas: 0\n"
     ]
    }
   ],
   "execution_count": 53
  },
  {
   "metadata": {
    "ExecuteTime": {
     "end_time": "2024-09-15T15:24:39.359547Z",
     "start_time": "2024-09-15T15:24:39.354114Z"
    }
   },
   "cell_type": "code",
   "source": [
    "train['Daha Once Baska Bir Universiteden Mezun Olmus'].sum\n",
    "train['Daha Once Baska Bir Universiteden Mezun Olmus'] = train['Daha Once Baska Bir Universiteden Mezun Olmus'].fillna('Hayır')"
   ],
   "id": "d7aff34d7c0ea62a",
   "outputs": [],
   "execution_count": 55
  },
  {
   "metadata": {
    "ExecuteTime": {
     "end_time": "2024-09-15T15:25:23.784942Z",
     "start_time": "2024-09-15T15:25:23.771032Z"
    }
   },
   "cell_type": "code",
   "source": [
    "train['Lise Adi'] = train['Lise Adi'].fillna('Diğer')\n",
    "train['Lise Adi Diger'] = train['Lise Adi Diger'].fillna('Bilinmiyor')"
   ],
   "id": "e231d3063998fdc6",
   "outputs": [],
   "execution_count": 56
  },
  {
   "metadata": {
    "ExecuteTime": {
     "end_time": "2024-09-15T15:26:53.190112Z",
     "start_time": "2024-09-15T15:26:53.172991Z"
    }
   },
   "cell_type": "code",
   "source": [
    "#Lise Sehir\n",
    "train['Lise Adi'] = train['Lise Adi'].fillna('Diğer')\n",
    "#Lise Turu\n",
    "train['Lise Turu'] = train['Lise Turu'].fillna('Diğer')\n",
    "#Lise Bolumu\n",
    "train['Lise Bolumu'] = train['Lise Bolumu'].fillna('Diğer')\n",
    "#Lise Bolum Diger\n",
    "train['Lise Bolum Diger'] = train['Lise Bolum Diger'].fillna('Diğer')\n",
    "#Lise Mezuniyet Notu\n",
    "train['Lise Mezuniyet Notu'] = train['Lise Mezuniyet Notu'].fillna(0)\n",
    "#"
   ],
   "id": "256addfccea671d8",
   "outputs": [],
   "execution_count": 61
  },
  {
   "metadata": {
    "ExecuteTime": {
     "end_time": "2024-09-15T15:27:39.740408Z",
     "start_time": "2024-09-15T15:27:39.733852Z"
    }
   },
   "cell_type": "code",
   "source": [
    "## Baska Bir Kurumdan Burs Aliyor mu?\n",
    "train['Baska Bir Kurumdan Burs Aliyor mu?'].sum\n",
    "train['Baska Bir Kurumdan Burs Aliyor mu?'] = train['Baska Bir Kurumdan Burs Aliyor mu?'].fillna('Hayır')"
   ],
   "id": "b5b6b61b07bd816f",
   "outputs": [],
   "execution_count": 63
  },
  {
   "metadata": {
    "ExecuteTime": {
     "end_time": "2024-09-15T15:28:37.995957Z",
     "start_time": "2024-09-15T15:28:37.989871Z"
    }
   },
   "cell_type": "code",
   "source": [
    "# Burs Aldigi Baska Kurum\n",
    "train['Burs Aldigi Baska Kurum'] = train['Burs Aldigi Baska Kurum'].fillna('Yok')"
   ],
   "id": "79a2723cce6d500f",
   "outputs": [],
   "execution_count": 64
  },
  {
   "metadata": {
    "ExecuteTime": {
     "end_time": "2024-09-15T15:29:00.853810Z",
     "start_time": "2024-09-15T15:29:00.848455Z"
    }
   },
   "cell_type": "code",
   "source": [
    "# Baska Kurumdan Aldigi Burs Miktari:\n",
    "train['Baska Kurumdan Aldigi Burs Miktari'] = train['Baska Kurumdan Aldigi Burs Miktari'].fillna(0)"
   ],
   "id": "5c7aa876b8d76123",
   "outputs": [],
   "execution_count": 65
  },
  {
   "metadata": {
    "ExecuteTime": {
     "end_time": "2024-09-15T15:29:22.037491Z",
     "start_time": "2024-09-15T15:29:22.032968Z"
    }
   },
   "cell_type": "code",
   "source": [
    "# Anne Egitim Durumu\n",
    "train['Anne Egitim Durumu'].sum"
   ],
   "id": "6519e85bcb24a7e3",
   "outputs": [
    {
     "data": {
      "text/plain": [
       "<bound method Series.sum of 0            Üniversite\n",
       "1            Üniversite\n",
       "2        İlkokul Mezunu\n",
       "3        İlkokul Mezunu\n",
       "4        İlkokul Mezunu\n",
       "              ...      \n",
       "65119           İlkokul\n",
       "65120           İlkokul\n",
       "65121              Lise\n",
       "65122              Lise\n",
       "65123           İlkokul\n",
       "Name: Anne Egitim Durumu, Length: 65124, dtype: object>"
      ]
     },
     "execution_count": 66,
     "metadata": {},
     "output_type": "execute_result"
    }
   ],
   "execution_count": 66
  },
  {
   "metadata": {
    "ExecuteTime": {
     "end_time": "2024-09-15T15:29:39.608174Z",
     "start_time": "2024-09-15T15:29:39.601174Z"
    }
   },
   "cell_type": "code",
   "source": "train['Anne Egitim Durumu'] = train['Anne Egitim Durumu'].fillna('İlkokul')",
   "id": "cc8e55c672d39ab8",
   "outputs": [],
   "execution_count": 67
  },
  {
   "metadata": {
    "ExecuteTime": {
     "end_time": "2024-09-15T15:30:19.015371Z",
     "start_time": "2024-09-15T15:30:19.010658Z"
    }
   },
   "cell_type": "code",
   "source": "train['Anne Calisma Durumu'].sum",
   "id": "d747b5f7c99eaa73",
   "outputs": [
    {
     "data": {
      "text/plain": [
       "<bound method Series.sum of 0        Hayır\n",
       "1         Evet\n",
       "2        Hayır\n",
       "3        Hayır\n",
       "4        Hayır\n",
       "         ...  \n",
       "65119    Hayır\n",
       "65120    Hayır\n",
       "65121    Hayır\n",
       "65122    Hayır\n",
       "65123     Evet\n",
       "Name: Anne Calisma Durumu, Length: 65124, dtype: object>"
      ]
     },
     "execution_count": 69,
     "metadata": {},
     "output_type": "execute_result"
    }
   ],
   "execution_count": 69
  },
  {
   "metadata": {
    "ExecuteTime": {
     "end_time": "2024-09-15T15:30:33.914194Z",
     "start_time": "2024-09-15T15:30:33.908849Z"
    }
   },
   "cell_type": "code",
   "source": "train['Anne Calisma Durumu'] = train['Anne Calisma Durumu'].fillna('Hayır')",
   "id": "bc9b93e59803e04e",
   "outputs": [],
   "execution_count": 70
  },
  {
   "metadata": {
    "ExecuteTime": {
     "end_time": "2024-09-15T15:30:52.884472Z",
     "start_time": "2024-09-15T15:30:52.879743Z"
    }
   },
   "cell_type": "code",
   "source": "train['Anne Sektor'].sum",
   "id": "21caa61fedcd4a1f",
   "outputs": [
    {
     "data": {
      "text/plain": [
       "<bound method Series.sum of 0                  0\n",
       "1               Kamu\n",
       "2                  0\n",
       "3                  0\n",
       "4                  0\n",
       "            ...     \n",
       "65119              -\n",
       "65120              -\n",
       "65121              -\n",
       "65122              -\n",
       "65123    Özel Sektör\n",
       "Name: Anne Sektor, Length: 65124, dtype: object>"
      ]
     },
     "execution_count": 71,
     "metadata": {},
     "output_type": "execute_result"
    }
   ],
   "execution_count": 71
  },
  {
   "metadata": {
    "ExecuteTime": {
     "end_time": "2024-09-15T15:31:14.827404Z",
     "start_time": "2024-09-15T15:31:14.821926Z"
    }
   },
   "cell_type": "code",
   "source": "train['Anne Sektor'] = train['Anne Sektor'].fillna(0)",
   "id": "72b8185927a95906",
   "outputs": [],
   "execution_count": 72
  },
  {
   "metadata": {
    "ExecuteTime": {
     "end_time": "2024-09-15T15:31:18.264011Z",
     "start_time": "2024-09-15T15:31:18.259791Z"
    }
   },
   "cell_type": "code",
   "source": "train['Anne Sektor'].sum",
   "id": "e124f1bac3fb0625",
   "outputs": [
    {
     "data": {
      "text/plain": [
       "<bound method Series.sum of 0                  0\n",
       "1               Kamu\n",
       "2                  0\n",
       "3                  0\n",
       "4                  0\n",
       "            ...     \n",
       "65119              -\n",
       "65120              -\n",
       "65121              -\n",
       "65122              -\n",
       "65123    Özel Sektör\n",
       "Name: Anne Sektor, Length: 65124, dtype: object>"
      ]
     },
     "execution_count": 73,
     "metadata": {},
     "output_type": "execute_result"
    }
   ],
   "execution_count": 73
  },
  {
   "metadata": {
    "ExecuteTime": {
     "end_time": "2024-09-15T15:31:36.924383Z",
     "start_time": "2024-09-15T15:31:36.842802Z"
    }
   },
   "cell_type": "code",
   "source": [
    "columns = [\n",
    "    'Basvuru Yili', 'Degerlendirme Puani', 'Cinsiyet', 'Dogum Tarihi',\n",
    "       'Dogum Yeri', 'Ikametgah Sehri', 'Universite Adi', 'Universite Turu',\n",
    "       'Burslu ise Burs Yuzdesi', 'Burs Aliyor mu?', 'Bölüm',\n",
    "       'Universite Kacinci Sinif', 'Universite Not Ortalamasi',\n",
    "       'Daha Once Baska Bir Universiteden Mezun Olmus', 'Lise Adi',\n",
    "       'Lise Adi Diger', 'Lise Sehir', 'Lise Turu', 'Lise Bolumu',\n",
    "       'Lise Bolum Diger', 'Lise Mezuniyet Notu',\n",
    "       'Baska Bir Kurumdan Burs Aliyor mu?', 'Burs Aldigi Baska Kurum',\n",
    "       'Baska Kurumdan Aldigi Burs Miktari', 'Anne Egitim Durumu',\n",
    "       'Anne Calisma Durumu', 'Anne Sektor', 'Baba Egitim Durumu',\n",
    "       'Baba Calisma Durumu', 'Baba Sektor', 'Kardes Sayisi',\n",
    "       'Girisimcilik Kulupleri Tarzi Bir Kulube Uye misiniz?',\n",
    "       'Uye Oldugunuz Kulubun Ismi',\n",
    "       'Profesyonel Bir Spor Daliyla Mesgul musunuz?',\n",
    "       'Spor Dalindaki Rolunuz Nedir?', 'Aktif olarak bir STK üyesi misiniz?',\n",
    "       'Hangi STK\\'nin Uyesisiniz?', 'Stk Projesine Katildiniz Mi?',\n",
    "       'Girisimcilikle Ilgili Deneyiminiz Var Mi?',\n",
    "       'Girisimcilikle Ilgili Deneyiminizi Aciklayabilir misiniz?',\n",
    "       'Ingilizce Biliyor musunuz?', 'Ingilizce Seviyeniz?',\n",
    "       'Daha Önceden Mezun Olunduysa, Mezun Olunan Üniversite', 'id', 'Yas'\n",
    "]\n",
    "\n",
    "for column in columns:\n",
    "    print(f\"{column}: {train[column].isnull().sum()}\")\n"
   ],
   "id": "274c4ff93f40d631",
   "outputs": [
    {
     "name": "stdout",
     "output_type": "stream",
     "text": [
      "Basvuru Yili: 0\n",
      "Degerlendirme Puani: 0\n",
      "Cinsiyet: 0\n",
      "Dogum Tarihi: 3116\n",
      "Dogum Yeri: 0\n",
      "Ikametgah Sehri: 0\n",
      "Universite Adi: 0\n",
      "Universite Turu: 0\n",
      "Burslu ise Burs Yuzdesi: 0\n",
      "Burs Aliyor mu?: 0\n",
      "Bölüm: 0\n",
      "Universite Kacinci Sinif: 0\n",
      "Universite Not Ortalamasi: 0\n",
      "Daha Once Baska Bir Universiteden Mezun Olmus: 0\n",
      "Lise Adi: 0\n",
      "Lise Adi Diger: 0\n",
      "Lise Sehir: 1054\n",
      "Lise Turu: 0\n",
      "Lise Bolumu: 0\n",
      "Lise Bolum Diger: 0\n",
      "Lise Mezuniyet Notu: 0\n",
      "Baska Bir Kurumdan Burs Aliyor mu?: 0\n",
      "Burs Aldigi Baska Kurum: 0\n",
      "Baska Kurumdan Aldigi Burs Miktari: 0\n",
      "Anne Egitim Durumu: 0\n",
      "Anne Calisma Durumu: 0\n",
      "Anne Sektor: 0\n",
      "Baba Egitim Durumu: 1007\n",
      "Baba Calisma Durumu: 12618\n",
      "Baba Sektor: 20378\n",
      "Kardes Sayisi: 1132\n",
      "Girisimcilik Kulupleri Tarzi Bir Kulube Uye misiniz?: 1829\n",
      "Uye Oldugunuz Kulubun Ismi: 48690\n",
      "Profesyonel Bir Spor Daliyla Mesgul musunuz?: 1115\n",
      "Spor Dalindaki Rolunuz Nedir?: 32275\n",
      "Aktif olarak bir STK üyesi misiniz?: 12842\n",
      "Hangi STK'nin Uyesisiniz?: 49518\n",
      "Stk Projesine Katildiniz Mi?: 28307\n",
      "Girisimcilikle Ilgili Deneyiminiz Var Mi?: 12840\n",
      "Girisimcilikle Ilgili Deneyiminizi Aciklayabilir misiniz?: 50526\n",
      "Ingilizce Biliyor musunuz?: 6454\n",
      "Ingilizce Seviyeniz?: 36532\n",
      "Daha Önceden Mezun Olunduysa, Mezun Olunan Üniversite: 64705\n",
      "id: 0\n",
      "Yas: 0\n"
     ]
    }
   ],
   "execution_count": 74
  },
  {
   "metadata": {
    "ExecuteTime": {
     "end_time": "2024-09-15T15:32:33.776671Z",
     "start_time": "2024-09-15T15:32:33.771208Z"
    }
   },
   "cell_type": "code",
   "source": [
    "# Baba Egitim Durumu\n",
    "train['Baba Egitim Durumu'].sum\n",
    "train['Baba Egitim Durumu'] = train['Baba Egitim Durumu'].fillna('İlkokul')"
   ],
   "id": "241e3f3061f41f5c",
   "outputs": [],
   "execution_count": 77
  },
  {
   "metadata": {
    "ExecuteTime": {
     "end_time": "2024-09-15T15:33:26.187126Z",
     "start_time": "2024-09-15T15:33:26.181428Z"
    }
   },
   "cell_type": "code",
   "source": [
    "# Baba Calisma Durumu\n",
    "train['Baba Calisma Durumu'].sum\n",
    "train['Baba Calisma Durumu'] = train['Baba Calisma Durumu'].fillna('Evet')"
   ],
   "id": "12d761524d2d0a7e",
   "outputs": [],
   "execution_count": 79
  },
  {
   "metadata": {
    "ExecuteTime": {
     "end_time": "2024-09-15T15:33:58.688117Z",
     "start_time": "2024-09-15T15:33:58.681670Z"
    }
   },
   "cell_type": "code",
   "source": [
    "# Baba Sektor:\n",
    "train['Baba Sektor'].sum\n",
    "train['Baba Sektor'] = train['Baba Sektor'].fillna('Özel Sektör')"
   ],
   "id": "aa86ec9e9534087f",
   "outputs": [],
   "execution_count": 82
  },
  {
   "metadata": {
    "ExecuteTime": {
     "end_time": "2024-09-15T15:34:40.753013Z",
     "start_time": "2024-09-15T15:34:40.748680Z"
    }
   },
   "cell_type": "code",
   "source": [
    "# Kardes Sayisi\n",
    "train['Kardes Sayisi'].sum\n",
    "train['Kardes Sayisi'] = train['Kardes Sayisi'].fillna(0)"
   ],
   "id": "c48a5458516b0982",
   "outputs": [],
   "execution_count": 84
  },
  {
   "metadata": {
    "ExecuteTime": {
     "end_time": "2024-09-15T15:35:14.041327Z",
     "start_time": "2024-09-15T15:35:14.035370Z"
    }
   },
   "cell_type": "code",
   "source": [
    "# Girisimcilik Kulupleri Tarzi Bir Kulube Uye misiniz?:\n",
    "train['Girisimcilik Kulupleri Tarzi Bir Kulube Uye misiniz?'].sum\n",
    "train['Girisimcilik Kulupleri Tarzi Bir Kulube Uye misiniz?'] = train['Girisimcilik Kulupleri Tarzi Bir Kulube Uye misiniz?'].fillna('Hayır')"
   ],
   "id": "b123e472580b61b2",
   "outputs": [],
   "execution_count": 86
  },
  {
   "metadata": {
    "ExecuteTime": {
     "end_time": "2024-09-15T15:35:58.483867Z",
     "start_time": "2024-09-15T15:35:58.475924Z"
    }
   },
   "cell_type": "code",
   "source": [
    "# Uye Oldugunuz Kulubun Ismi\n",
    "train['Uye Oldugunuz Kulubun Ismi'].sum\n",
    "train['Uye Oldugunuz Kulubun Ismi'] = train['Uye Oldugunuz Kulubun Ismi'].fillna(0)\n",
    "train['Uye Oldugunuz Kulubun Ismi'].sum"
   ],
   "id": "fc048d1eb482d5dd",
   "outputs": [
    {
     "data": {
      "text/plain": [
       "<bound method Series.sum of 0        Bilkent IEEE Bilgisayar Toplulugu 2013-2014 Ba...\n",
       "1                                                        0\n",
       "2                                                     Tema\n",
       "3                            Güzel Konuşma ve yazma kulübü\n",
       "4                                                        0\n",
       "                               ...                        \n",
       "65119                                                    0\n",
       "65120                                                    0\n",
       "65121                                                    0\n",
       "65122                                                    0\n",
       "65123                                                    0\n",
       "Name: Uye Oldugunuz Kulubun Ismi, Length: 65124, dtype: object>"
      ]
     },
     "execution_count": 89,
     "metadata": {},
     "output_type": "execute_result"
    }
   ],
   "execution_count": 89
  },
  {
   "metadata": {
    "ExecuteTime": {
     "end_time": "2024-09-15T15:36:39.566939Z",
     "start_time": "2024-09-15T15:36:39.561039Z"
    }
   },
   "cell_type": "code",
   "source": [
    "# Profesyonel Bir Spor Daliyla Mesgul musunuz?\n",
    "train['Profesyonel Bir Spor Daliyla Mesgul musunuz?'].sum\n",
    "train['Profesyonel Bir Spor Daliyla Mesgul musunuz?'] = train['Profesyonel Bir Spor Daliyla Mesgul musunuz?'].fillna('Hayır')"
   ],
   "id": "e2bbddfbcff56ace",
   "outputs": [],
   "execution_count": 92
  },
  {
   "metadata": {
    "ExecuteTime": {
     "end_time": "2024-09-15T15:37:18.430791Z",
     "start_time": "2024-09-15T15:37:18.425336Z"
    }
   },
   "cell_type": "code",
   "source": [
    "# Spor Dalindaki Rolunuz Nedir?\n",
    "train['Spor Dalindaki Rolunuz Nedir?'].sum\n",
    "train['Spor Dalindaki Rolunuz Nedir?'] = train['Spor Dalindaki Rolunuz Nedir?'].fillna(0)"
   ],
   "id": "7337732f863d04b4",
   "outputs": [],
   "execution_count": 94
  },
  {
   "metadata": {
    "ExecuteTime": {
     "end_time": "2024-09-15T15:37:28.463835Z",
     "start_time": "2024-09-15T15:37:28.390990Z"
    }
   },
   "cell_type": "code",
   "source": [
    "columns = [\n",
    "    'Basvuru Yili', 'Degerlendirme Puani', 'Cinsiyet', 'Dogum Tarihi',\n",
    "       'Dogum Yeri', 'Ikametgah Sehri', 'Universite Adi', 'Universite Turu',\n",
    "       'Burslu ise Burs Yuzdesi', 'Burs Aliyor mu?', 'Bölüm',\n",
    "       'Universite Kacinci Sinif', 'Universite Not Ortalamasi',\n",
    "       'Daha Once Baska Bir Universiteden Mezun Olmus', 'Lise Adi',\n",
    "       'Lise Adi Diger', 'Lise Sehir', 'Lise Turu', 'Lise Bolumu',\n",
    "       'Lise Bolum Diger', 'Lise Mezuniyet Notu',\n",
    "       'Baska Bir Kurumdan Burs Aliyor mu?', 'Burs Aldigi Baska Kurum',\n",
    "       'Baska Kurumdan Aldigi Burs Miktari', 'Anne Egitim Durumu',\n",
    "       'Anne Calisma Durumu', 'Anne Sektor', 'Baba Egitim Durumu',\n",
    "       'Baba Calisma Durumu', 'Baba Sektor', 'Kardes Sayisi',\n",
    "       'Girisimcilik Kulupleri Tarzi Bir Kulube Uye misiniz?',\n",
    "       'Uye Oldugunuz Kulubun Ismi',\n",
    "       'Profesyonel Bir Spor Daliyla Mesgul musunuz?',\n",
    "       'Spor Dalindaki Rolunuz Nedir?', 'Aktif olarak bir STK üyesi misiniz?',\n",
    "       'Hangi STK\\'nin Uyesisiniz?', 'Stk Projesine Katildiniz Mi?',\n",
    "       'Girisimcilikle Ilgili Deneyiminiz Var Mi?',\n",
    "       'Girisimcilikle Ilgili Deneyiminizi Aciklayabilir misiniz?',\n",
    "       'Ingilizce Biliyor musunuz?', 'Ingilizce Seviyeniz?',\n",
    "       'Daha Önceden Mezun Olunduysa, Mezun Olunan Üniversite', 'id', 'Yas'\n",
    "]\n",
    "\n",
    "for column in columns:\n",
    "    print(f\"{column}: {train[column].isnull().sum()}\")\n"
   ],
   "id": "452c824312138556",
   "outputs": [
    {
     "name": "stdout",
     "output_type": "stream",
     "text": [
      "Basvuru Yili: 0\n",
      "Degerlendirme Puani: 0\n",
      "Cinsiyet: 0\n",
      "Dogum Tarihi: 3116\n",
      "Dogum Yeri: 0\n",
      "Ikametgah Sehri: 0\n",
      "Universite Adi: 0\n",
      "Universite Turu: 0\n",
      "Burslu ise Burs Yuzdesi: 0\n",
      "Burs Aliyor mu?: 0\n",
      "Bölüm: 0\n",
      "Universite Kacinci Sinif: 0\n",
      "Universite Not Ortalamasi: 0\n",
      "Daha Once Baska Bir Universiteden Mezun Olmus: 0\n",
      "Lise Adi: 0\n",
      "Lise Adi Diger: 0\n",
      "Lise Sehir: 1054\n",
      "Lise Turu: 0\n",
      "Lise Bolumu: 0\n",
      "Lise Bolum Diger: 0\n",
      "Lise Mezuniyet Notu: 0\n",
      "Baska Bir Kurumdan Burs Aliyor mu?: 0\n",
      "Burs Aldigi Baska Kurum: 0\n",
      "Baska Kurumdan Aldigi Burs Miktari: 0\n",
      "Anne Egitim Durumu: 0\n",
      "Anne Calisma Durumu: 0\n",
      "Anne Sektor: 0\n",
      "Baba Egitim Durumu: 0\n",
      "Baba Calisma Durumu: 0\n",
      "Baba Sektor: 0\n",
      "Kardes Sayisi: 0\n",
      "Girisimcilik Kulupleri Tarzi Bir Kulube Uye misiniz?: 0\n",
      "Uye Oldugunuz Kulubun Ismi: 0\n",
      "Profesyonel Bir Spor Daliyla Mesgul musunuz?: 0\n",
      "Spor Dalindaki Rolunuz Nedir?: 0\n",
      "Aktif olarak bir STK üyesi misiniz?: 12842\n",
      "Hangi STK'nin Uyesisiniz?: 49518\n",
      "Stk Projesine Katildiniz Mi?: 28307\n",
      "Girisimcilikle Ilgili Deneyiminiz Var Mi?: 12840\n",
      "Girisimcilikle Ilgili Deneyiminizi Aciklayabilir misiniz?: 50526\n",
      "Ingilizce Biliyor musunuz?: 6454\n",
      "Ingilizce Seviyeniz?: 36532\n",
      "Daha Önceden Mezun Olunduysa, Mezun Olunan Üniversite: 64705\n",
      "id: 0\n",
      "Yas: 0\n"
     ]
    }
   ],
   "execution_count": 95
  },
  {
   "metadata": {
    "ExecuteTime": {
     "end_time": "2024-09-15T15:38:39.090326Z",
     "start_time": "2024-09-15T15:38:39.083888Z"
    }
   },
   "cell_type": "code",
   "source": [
    "# Lise Sehir (İstanbula ata)\n",
    "train['Lise Sehir'].sum\n",
    "train['Lise Sehir'] = train['Lise Sehir'].fillna('İstanbul')\n"
   ],
   "id": "45e2bd30d584e647",
   "outputs": [],
   "execution_count": 97
  },
  {
   "metadata": {
    "ExecuteTime": {
     "end_time": "2024-09-15T15:39:13.503495Z",
     "start_time": "2024-09-15T15:39:13.497489Z"
    }
   },
   "cell_type": "code",
   "source": [
    "# Aktif olarak bir STK üyesi misiniz?\n",
    "train['Aktif olarak bir STK üyesi misiniz?'].sum\n",
    "train['Aktif olarak bir STK üyesi misiniz?'] = train['Aktif olarak bir STK üyesi misiniz?'].fillna('Hayır')"
   ],
   "id": "8f9a0338f4b2a074",
   "outputs": [],
   "execution_count": 99
  },
  {
   "metadata": {
    "ExecuteTime": {
     "end_time": "2024-09-15T15:39:48.261625Z",
     "start_time": "2024-09-15T15:39:48.254701Z"
    }
   },
   "cell_type": "code",
   "source": [
    "# Hangi STK'nin Uyesisiniz?\n",
    "train['Hangi STK\\'nin Uyesisiniz?'].sum\n",
    "train['Hangi STK\\'nin Uyesisiniz?'] = train['Hangi STK\\'nin Uyesisiniz?'].fillna(0)\n"
   ],
   "id": "feb667f45f807af6",
   "outputs": [],
   "execution_count": 101
  },
  {
   "metadata": {
    "ExecuteTime": {
     "end_time": "2024-09-15T15:40:27.402585Z",
     "start_time": "2024-09-15T15:40:27.395791Z"
    }
   },
   "cell_type": "code",
   "source": [
    "# Stk Projesine Katildiniz Mi?:\n",
    "train['Stk Projesine Katildiniz Mi?'].sum\n",
    "train['Stk Projesine Katildiniz Mi?'] = train['Stk Projesine Katildiniz Mi?'].fillna('Hayır')"
   ],
   "id": "5c78468d274ab4be",
   "outputs": [],
   "execution_count": 103
  },
  {
   "metadata": {
    "ExecuteTime": {
     "end_time": "2024-09-15T15:41:00.965968Z",
     "start_time": "2024-09-15T15:41:00.959211Z"
    }
   },
   "cell_type": "code",
   "source": [
    "# Girisimcilikle Ilgili Deneyiminiz Var Mi?\n",
    "train['Girisimcilikle Ilgili Deneyiminiz Var Mi?'].sum\n",
    "train['Girisimcilikle Ilgili Deneyiminiz Var Mi?'] = train['Girisimcilikle Ilgili Deneyiminiz Var Mi?'].fillna('Hayır')"
   ],
   "id": "9fd6ecc57a781d55",
   "outputs": [],
   "execution_count": 105
  },
  {
   "metadata": {
    "ExecuteTime": {
     "end_time": "2024-09-15T15:41:38.003240Z",
     "start_time": "2024-09-15T15:41:37.996125Z"
    }
   },
   "cell_type": "code",
   "source": [
    "# Girisimcilikle Ilgili Deneyiminizi Aciklayabilir misiniz?\n",
    "train['Girisimcilikle Ilgili Deneyiminizi Aciklayabilir misiniz?'].sum\n",
    "train['Girisimcilikle Ilgili Deneyiminizi Aciklayabilir misiniz?'] = train['Girisimcilikle Ilgili Deneyiminizi Aciklayabilir misiniz?'].fillna('Hayır')"
   ],
   "id": "97a51035514d6d42",
   "outputs": [],
   "execution_count": 107
  },
  {
   "metadata": {
    "ExecuteTime": {
     "end_time": "2024-09-15T15:42:12.201488Z",
     "start_time": "2024-09-15T15:42:12.193713Z"
    }
   },
   "cell_type": "code",
   "source": [
    "# Ingilizce Biliyor musunuz?\n",
    "train['Ingilizce Biliyor musunuz?'].sum\n",
    "train['Ingilizce Biliyor musunuz?'] = train['Ingilizce Biliyor musunuz?'].fillna('Hayır')\n"
   ],
   "id": "db0d2cdb41cfe50f",
   "outputs": [],
   "execution_count": 109
  },
  {
   "metadata": {
    "ExecuteTime": {
     "end_time": "2024-09-15T15:45:14.420408Z",
     "start_time": "2024-09-15T15:45:14.415217Z"
    }
   },
   "cell_type": "code",
   "source": [
    "# Ingilizce Seviyeniz?\n",
    "train['Ingilizce Seviyeniz?'] = train['Ingilizce Seviyeniz?'].fillna('Başlangıç')"
   ],
   "id": "8037f059b6afb183",
   "outputs": [],
   "execution_count": 113
  },
  {
   "metadata": {
    "ExecuteTime": {
     "end_time": "2024-09-15T15:46:07.600480Z",
     "start_time": "2024-09-15T15:46:07.595307Z"
    }
   },
   "cell_type": "code",
   "source": [
    "# Daha Önceden Mezun Olunduysa, Mezun Olunan Üniversite\n",
    "train['Daha Önceden Mezun Olunduysa, Mezun Olunan Üniversite'] = train['Daha Önceden Mezun Olunduysa, Mezun Olunan Üniversite'].fillna(0)\n"
   ],
   "id": "48010532f0c6122e",
   "outputs": [],
   "execution_count": 115
  },
  {
   "metadata": {
    "ExecuteTime": {
     "end_time": "2024-09-15T15:46:13.896342Z",
     "start_time": "2024-09-15T15:46:13.828234Z"
    }
   },
   "cell_type": "code",
   "source": [
    "columns = [\n",
    "    'Basvuru Yili', 'Degerlendirme Puani', 'Cinsiyet', 'Dogum Tarihi',\n",
    "       'Dogum Yeri', 'Ikametgah Sehri', 'Universite Adi', 'Universite Turu',\n",
    "       'Burslu ise Burs Yuzdesi', 'Burs Aliyor mu?', 'Bölüm',\n",
    "       'Universite Kacinci Sinif', 'Universite Not Ortalamasi',\n",
    "       'Daha Once Baska Bir Universiteden Mezun Olmus', 'Lise Adi',\n",
    "       'Lise Adi Diger', 'Lise Sehir', 'Lise Turu', 'Lise Bolumu',\n",
    "       'Lise Bolum Diger', 'Lise Mezuniyet Notu',\n",
    "       'Baska Bir Kurumdan Burs Aliyor mu?', 'Burs Aldigi Baska Kurum',\n",
    "       'Baska Kurumdan Aldigi Burs Miktari', 'Anne Egitim Durumu',\n",
    "       'Anne Calisma Durumu', 'Anne Sektor', 'Baba Egitim Durumu',\n",
    "       'Baba Calisma Durumu', 'Baba Sektor', 'Kardes Sayisi',\n",
    "       'Girisimcilik Kulupleri Tarzi Bir Kulube Uye misiniz?',\n",
    "       'Uye Oldugunuz Kulubun Ismi',\n",
    "       'Profesyonel Bir Spor Daliyla Mesgul musunuz?',\n",
    "       'Spor Dalindaki Rolunuz Nedir?', 'Aktif olarak bir STK üyesi misiniz?',\n",
    "       'Hangi STK\\'nin Uyesisiniz?', 'Stk Projesine Katildiniz Mi?',\n",
    "       'Girisimcilikle Ilgili Deneyiminiz Var Mi?',\n",
    "       'Girisimcilikle Ilgili Deneyiminizi Aciklayabilir misiniz?',\n",
    "       'Ingilizce Biliyor musunuz?', 'Ingilizce Seviyeniz?',\n",
    "       'Daha Önceden Mezun Olunduysa, Mezun Olunan Üniversite', 'id', 'Yas'\n",
    "]\n",
    "\n",
    "for column in columns:\n",
    "    print(f\"{column}: {train[column].isnull().sum()}\")\n"
   ],
   "id": "49134d9f0f6f7afe",
   "outputs": [
    {
     "name": "stdout",
     "output_type": "stream",
     "text": [
      "Basvuru Yili: 0\n",
      "Degerlendirme Puani: 0\n",
      "Cinsiyet: 0\n",
      "Dogum Tarihi: 3116\n",
      "Dogum Yeri: 0\n",
      "Ikametgah Sehri: 0\n",
      "Universite Adi: 0\n",
      "Universite Turu: 0\n",
      "Burslu ise Burs Yuzdesi: 0\n",
      "Burs Aliyor mu?: 0\n",
      "Bölüm: 0\n",
      "Universite Kacinci Sinif: 0\n",
      "Universite Not Ortalamasi: 0\n",
      "Daha Once Baska Bir Universiteden Mezun Olmus: 0\n",
      "Lise Adi: 0\n",
      "Lise Adi Diger: 0\n",
      "Lise Sehir: 0\n",
      "Lise Turu: 0\n",
      "Lise Bolumu: 0\n",
      "Lise Bolum Diger: 0\n",
      "Lise Mezuniyet Notu: 0\n",
      "Baska Bir Kurumdan Burs Aliyor mu?: 0\n",
      "Burs Aldigi Baska Kurum: 0\n",
      "Baska Kurumdan Aldigi Burs Miktari: 0\n",
      "Anne Egitim Durumu: 0\n",
      "Anne Calisma Durumu: 0\n",
      "Anne Sektor: 0\n",
      "Baba Egitim Durumu: 0\n",
      "Baba Calisma Durumu: 0\n",
      "Baba Sektor: 0\n",
      "Kardes Sayisi: 0\n",
      "Girisimcilik Kulupleri Tarzi Bir Kulube Uye misiniz?: 0\n",
      "Uye Oldugunuz Kulubun Ismi: 0\n",
      "Profesyonel Bir Spor Daliyla Mesgul musunuz?: 0\n",
      "Spor Dalindaki Rolunuz Nedir?: 0\n",
      "Aktif olarak bir STK üyesi misiniz?: 0\n",
      "Hangi STK'nin Uyesisiniz?: 0\n",
      "Stk Projesine Katildiniz Mi?: 0\n",
      "Girisimcilikle Ilgili Deneyiminiz Var Mi?: 0\n",
      "Girisimcilikle Ilgili Deneyiminizi Aciklayabilir misiniz?: 0\n",
      "Ingilizce Biliyor musunuz?: 0\n",
      "Ingilizce Seviyeniz?: 0\n",
      "Daha Önceden Mezun Olunduysa, Mezun Olunan Üniversite: 0\n",
      "id: 0\n",
      "Yas: 0\n"
     ]
    }
   ],
   "execution_count": 116
  },
  {
   "metadata": {
    "ExecuteTime": {
     "end_time": "2024-09-15T15:47:23.061418Z",
     "start_time": "2024-09-15T15:47:23.018940Z"
    }
   },
   "cell_type": "code",
   "source": "train_son = train.drop('Dogum Tarihi', axis=1)",
   "id": "29b8a27235cf3dfc",
   "outputs": [],
   "execution_count": 117
  },
  {
   "metadata": {
    "ExecuteTime": {
     "end_time": "2024-09-15T15:47:37.902620Z",
     "start_time": "2024-09-15T15:47:37.114933Z"
    }
   },
   "cell_type": "code",
   "source": "train_son.to_csv('train_temiz.csv')",
   "id": "ad0251adefb1fd4",
   "outputs": [],
   "execution_count": 118
  },
  {
   "metadata": {},
   "cell_type": "code",
   "outputs": [],
   "execution_count": null,
   "source": "",
   "id": "90d7653604787667"
  }
 ],
 "metadata": {
  "kernelspec": {
   "display_name": "Python 3",
   "language": "python",
   "name": "python3"
  },
  "language_info": {
   "codemirror_mode": {
    "name": "ipython",
    "version": 2
   },
   "file_extension": ".py",
   "mimetype": "text/x-python",
   "name": "python",
   "nbconvert_exporter": "python",
   "pygments_lexer": "ipython2",
   "version": "2.7.6"
  }
 },
 "nbformat": 4,
 "nbformat_minor": 5
}
